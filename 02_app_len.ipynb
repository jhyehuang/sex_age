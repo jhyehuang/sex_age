{
 "cells": [
  {
   "cell_type": "code",
   "execution_count": 5,
   "metadata": {},
   "outputs": [],
   "source": [
    "import pandas as pd\n",
    "from flags import FLAGS, unparsed\n",
    "import numpy as np"
   ]
  },
  {
   "cell_type": "code",
   "execution_count": 6,
   "metadata": {},
   "outputs": [],
   "source": [
    "deviceid_packages_02= pd.read_csv(FLAGS.file_path +'package_label.txt',)"
   ]
  },
  {
   "cell_type": "code",
   "execution_count": 7,
   "metadata": {},
   "outputs": [
    {
     "data": {
      "text/plain": [
       " 系统工具            1005\n",
       " 金融               976\n",
       " 教育               843\n",
       " 其它               776\n",
       " 休闲               625\n",
       " 生活               560\n",
       " 社交               466\n",
       " TAB(桌面游戏)        393\n",
       " SIM(模拟游戏)        375\n",
       " 实用工具             370\n",
       " 视频               315\n",
       " 摄影摄像             264\n",
       " 移动购物             262\n",
       " 移动阅读             251\n",
       " 商务办公             239\n",
       " 音频娱乐             236\n",
       " 资讯               195\n",
       " 竞速               168\n",
       " 健康               162\n",
       " 射击               150\n",
       " 视频直播             141\n",
       " 动漫娱乐             135\n",
       " 汽车               126\n",
       " 交通出行             121\n",
       " SLG(策略游戏)        108\n",
       " RPG(角色扮演游戏)      100\n",
       " 地图导航              97\n",
       " ACT(动作类游戏)        94\n",
       " 应用管理              84\n",
       " 智能硬件              83\n",
       " 医疗                75\n",
       " 游戏工具              70\n",
       " 旅游                59\n",
       " 通讯                57\n",
       " 浏览器               52\n",
       " 游戏媒体              49\n",
       " 游戏平台              48\n",
       " 企业级应用             37\n",
       " 体育竞技              32\n",
       " 母婴亲子              32\n",
       " 卡牌                31\n",
       " 美食                30\n",
       " 体育                26\n",
       " 输入法               26\n",
       " 房产                24\n",
       "Name: t1, dtype: int64"
      ]
     },
     "execution_count": 7,
     "metadata": {},
     "output_type": "execute_result"
    }
   ],
   "source": [
    "deviceid_packages_02['t1'].value_counts()"
   ]
  },
  {
   "cell_type": "code",
   "execution_count": 8,
   "metadata": {},
   "outputs": [
    {
     "data": {
      "text/html": [
       "<div>\n",
       "<style scoped>\n",
       "    .dataframe tbody tr th:only-of-type {\n",
       "        vertical-align: middle;\n",
       "    }\n",
       "\n",
       "    .dataframe tbody tr th {\n",
       "        vertical-align: top;\n",
       "    }\n",
       "\n",
       "    .dataframe thead th {\n",
       "        text-align: right;\n",
       "    }\n",
       "</style>\n",
       "<table border=\"1\" class=\"dataframe\">\n",
       "  <thead>\n",
       "    <tr style=\"text-align: right;\">\n",
       "      <th></th>\n",
       "      <th>app_len</th>\n",
       "      <th>t1_code</th>\n",
       "      <th>t2_code</th>\n",
       "      <th>app_t1_w</th>\n",
       "      <th>app_t2_w</th>\n",
       "      <th>app_id_weight</th>\n",
       "      <th>app_t1_weight</th>\n",
       "      <th>app_t2_weight</th>\n",
       "      <th>app_lda_t2_1</th>\n",
       "      <th>app_lda_t2_2</th>\n",
       "      <th>app_lda_t2_3</th>\n",
       "      <th>app_lda_t2_4</th>\n",
       "      <th>app_lda_t2_5</th>\n",
       "    </tr>\n",
       "  </thead>\n",
       "  <tbody>\n",
       "    <tr>\n",
       "      <th>count</th>\n",
       "      <td>72727.000000</td>\n",
       "      <td>72727.000000</td>\n",
       "      <td>72727.000000</td>\n",
       "      <td>72727.000000</td>\n",
       "      <td>72727.000000</td>\n",
       "      <td>72727.000000</td>\n",
       "      <td>72727.000000</td>\n",
       "      <td>72727.000000</td>\n",
       "      <td>72727.000000</td>\n",
       "      <td>72727.000000</td>\n",
       "      <td>72727.000000</td>\n",
       "      <td>72727.000000</td>\n",
       "      <td>72727.000000</td>\n",
       "    </tr>\n",
       "    <tr>\n",
       "      <th>mean</th>\n",
       "      <td>10.528401</td>\n",
       "      <td>6099.258858</td>\n",
       "      <td>10373.477182</td>\n",
       "      <td>0.867306</td>\n",
       "      <td>0.785776</td>\n",
       "      <td>2.738866</td>\n",
       "      <td>1.280376</td>\n",
       "      <td>1.344734</td>\n",
       "      <td>0.210716</td>\n",
       "      <td>0.145402</td>\n",
       "      <td>0.143105</td>\n",
       "      <td>0.311416</td>\n",
       "      <td>0.189361</td>\n",
       "    </tr>\n",
       "    <tr>\n",
       "      <th>std</th>\n",
       "      <td>8.048777</td>\n",
       "      <td>4638.797889</td>\n",
       "      <td>6891.175922</td>\n",
       "      <td>0.450332</td>\n",
       "      <td>0.406193</td>\n",
       "      <td>1.032149</td>\n",
       "      <td>0.602566</td>\n",
       "      <td>0.654274</td>\n",
       "      <td>0.238988</td>\n",
       "      <td>0.165179</td>\n",
       "      <td>0.148798</td>\n",
       "      <td>0.264088</td>\n",
       "      <td>0.214173</td>\n",
       "    </tr>\n",
       "    <tr>\n",
       "      <th>min</th>\n",
       "      <td>1.000000</td>\n",
       "      <td>0.000000</td>\n",
       "      <td>0.000000</td>\n",
       "      <td>0.000000</td>\n",
       "      <td>0.000000</td>\n",
       "      <td>1.000000</td>\n",
       "      <td>0.000000</td>\n",
       "      <td>0.000000</td>\n",
       "      <td>0.009619</td>\n",
       "      <td>0.010234</td>\n",
       "      <td>0.007891</td>\n",
       "      <td>0.006330</td>\n",
       "      <td>0.008798</td>\n",
       "    </tr>\n",
       "    <tr>\n",
       "      <th>25%</th>\n",
       "      <td>5.000000</td>\n",
       "      <td>2792.000000</td>\n",
       "      <td>5936.500000</td>\n",
       "      <td>0.789789</td>\n",
       "      <td>0.786915</td>\n",
       "      <td>1.995655</td>\n",
       "      <td>1.000000</td>\n",
       "      <td>1.000000</td>\n",
       "      <td>0.067363</td>\n",
       "      <td>0.050707</td>\n",
       "      <td>0.050656</td>\n",
       "      <td>0.051942</td>\n",
       "      <td>0.051621</td>\n",
       "    </tr>\n",
       "    <tr>\n",
       "      <th>50%</th>\n",
       "      <td>9.000000</td>\n",
       "      <td>4846.000000</td>\n",
       "      <td>8346.000000</td>\n",
       "      <td>0.893176</td>\n",
       "      <td>0.823119</td>\n",
       "      <td>2.625687</td>\n",
       "      <td>1.334637</td>\n",
       "      <td>1.323633</td>\n",
       "      <td>0.101211</td>\n",
       "      <td>0.100000</td>\n",
       "      <td>0.100550</td>\n",
       "      <td>0.200000</td>\n",
       "      <td>0.101814</td>\n",
       "    </tr>\n",
       "    <tr>\n",
       "      <th>75%</th>\n",
       "      <td>14.000000</td>\n",
       "      <td>9473.000000</td>\n",
       "      <td>15609.500000</td>\n",
       "      <td>1.161247</td>\n",
       "      <td>1.022756</td>\n",
       "      <td>3.365704</td>\n",
       "      <td>1.663153</td>\n",
       "      <td>1.756024</td>\n",
       "      <td>0.200000</td>\n",
       "      <td>0.200000</td>\n",
       "      <td>0.200000</td>\n",
       "      <td>0.595073</td>\n",
       "      <td>0.200000</td>\n",
       "    </tr>\n",
       "    <tr>\n",
       "      <th>max</th>\n",
       "      <td>174.000000</td>\n",
       "      <td>16365.000000</td>\n",
       "      <td>24178.000000</td>\n",
       "      <td>2.121605</td>\n",
       "      <td>1.907297</td>\n",
       "      <td>12.783512</td>\n",
       "      <td>3.740751</td>\n",
       "      <td>5.272196</td>\n",
       "      <td>0.942059</td>\n",
       "      <td>0.909549</td>\n",
       "      <td>0.919114</td>\n",
       "      <td>0.884821</td>\n",
       "      <td>0.899055</td>\n",
       "    </tr>\n",
       "  </tbody>\n",
       "</table>\n",
       "</div>"
      ],
      "text/plain": [
       "            app_len       t1_code       t2_code      app_t1_w      app_t2_w  \\\n",
       "count  72727.000000  72727.000000  72727.000000  72727.000000  72727.000000   \n",
       "mean      10.528401   6099.258858  10373.477182      0.867306      0.785776   \n",
       "std        8.048777   4638.797889   6891.175922      0.450332      0.406193   \n",
       "min        1.000000      0.000000      0.000000      0.000000      0.000000   \n",
       "25%        5.000000   2792.000000   5936.500000      0.789789      0.786915   \n",
       "50%        9.000000   4846.000000   8346.000000      0.893176      0.823119   \n",
       "75%       14.000000   9473.000000  15609.500000      1.161247      1.022756   \n",
       "max      174.000000  16365.000000  24178.000000      2.121605      1.907297   \n",
       "\n",
       "       app_id_weight  app_t1_weight  app_t2_weight  app_lda_t2_1  \\\n",
       "count   72727.000000   72727.000000   72727.000000  72727.000000   \n",
       "mean        2.738866       1.280376       1.344734      0.210716   \n",
       "std         1.032149       0.602566       0.654274      0.238988   \n",
       "min         1.000000       0.000000       0.000000      0.009619   \n",
       "25%         1.995655       1.000000       1.000000      0.067363   \n",
       "50%         2.625687       1.334637       1.323633      0.101211   \n",
       "75%         3.365704       1.663153       1.756024      0.200000   \n",
       "max        12.783512       3.740751       5.272196      0.942059   \n",
       "\n",
       "       app_lda_t2_2  app_lda_t2_3  app_lda_t2_4  app_lda_t2_5  \n",
       "count  72727.000000  72727.000000  72727.000000  72727.000000  \n",
       "mean       0.145402      0.143105      0.311416      0.189361  \n",
       "std        0.165179      0.148798      0.264088      0.214173  \n",
       "min        0.010234      0.007891      0.006330      0.008798  \n",
       "25%        0.050707      0.050656      0.051942      0.051621  \n",
       "50%        0.100000      0.100550      0.200000      0.101814  \n",
       "75%        0.200000      0.200000      0.595073      0.200000  \n",
       "max        0.909549      0.919114      0.884821      0.899055  "
      ]
     },
     "execution_count": 8,
     "metadata": {},
     "output_type": "execute_result"
    }
   ],
   "source": [
    "deviceid_packages_02.describe()"
   ]
  },
  {
   "cell_type": "code",
   "execution_count": 29,
   "metadata": {},
   "outputs": [],
   "source": [
    "deviceid_packages_02=deviceid_packages_02.fillna(0)\n",
    "deviceid_packages_02.drop('device_id', axis=1,inplace = True)"
   ]
  },
  {
   "cell_type": "code",
   "execution_count": 30,
   "metadata": {},
   "outputs": [],
   "source": [
    "columns=['device_id','app_id_weight','app_len_t1_43', 'app_len_t2_132', 'app_len_t1_36', 'app_len_t2_94',\n",
    "             'app_len_t2_251', 'app_len_t1_33', 'app_len_t2_124', 'app_len_t1_32', 'app_len_t2_223', 'app_len_t2_83',\n",
    "             'app_len_t2_106', 'app_len_t2_61', 'app_len_t2_159', 'app_len_t1_17', 'app_len_t2_158',]"
   ]
  },
  {
   "cell_type": "code",
   "execution_count": 31,
   "metadata": {},
   "outputs": [
    {
     "name": "stderr",
     "output_type": "stream",
     "text": [
      "/home/zhijiehuang/anaconda3/lib/python3.6/site-packages/ipykernel_launcher.py:2: DeprecationWarning: \n",
      ".ix is deprecated. Please use\n",
      ".loc for label based indexing or\n",
      ".iloc for positional indexing\n",
      "\n",
      "See the documentation here:\n",
      "http://pandas.pydata.org/pandas-docs/stable/indexing.html#ix-indexer-is-deprecated\n",
      "  \n"
     ]
    }
   ],
   "source": [
    "deviceid_packages_07= pd.read_csv(FLAGS.file_path +'07_deviceid_packages.csv',)\n",
    "device_id=deviceid_packages_07.ix[:,'device_id']\n",
    "deviceid_packages_02=pd.concat([device_id,deviceid_packages_02],axis=1)"
   ]
  },
  {
   "cell_type": "code",
   "execution_count": 32,
   "metadata": {},
   "outputs": [],
   "source": [
    "deviceid_packages_02.to_csv(FLAGS.file_path+'02_deviceid_packages.csv',columns=columns,index= False)"
   ]
  },
  {
   "cell_type": "code",
   "execution_count": 33,
   "metadata": {},
   "outputs": [
    {
     "data": {
      "text/plain": [
       "(72727, 17)"
      ]
     },
     "execution_count": 33,
     "metadata": {},
     "output_type": "execute_result"
    }
   ],
   "source": [
    "deviceid_packages_02.shape"
   ]
  },
  {
   "cell_type": "code",
   "execution_count": null,
   "metadata": {},
   "outputs": [],
   "source": []
  }
 ],
 "metadata": {
  "kernelspec": {
   "display_name": "Python 3",
   "language": "python",
   "name": "python3"
  },
  "language_info": {
   "codemirror_mode": {
    "name": "ipython",
    "version": 3
   },
   "file_extension": ".py",
   "mimetype": "text/x-python",
   "name": "python",
   "nbconvert_exporter": "python",
   "pygments_lexer": "ipython3",
   "version": "3.6.4"
  }
 },
 "nbformat": 4,
 "nbformat_minor": 2
}
