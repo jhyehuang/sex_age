{
 "cells": [
  {
   "cell_type": "code",
   "execution_count": 17,
   "metadata": {},
   "outputs": [],
   "source": [
    "import pandas as pd\n",
    "from flags import FLAGS, unparsed\n",
    "import numpy as np\n",
    "from db.conn_db import db,cursor,engine,truncate_table,data_from_mysql,dev_id_train\n",
    "import operator  \n",
    "from functools import reduce\n",
    "import logging\n",
    "from sklearn.utils import shuffle"
   ]
  },
  {
   "cell_type": "code",
   "execution_count": 18,
   "metadata": {},
   "outputs": [],
   "source": [
    "logging.basicConfig(\n",
    "    format='%(asctime)s - %(levelname)s - %(filename)s:%(lineno)d - %(message)s', level=logging.DEBUG)"
   ]
  },
  {
   "cell_type": "code",
   "execution_count": 19,
   "metadata": {},
   "outputs": [],
   "source": [
    "deviceid_packages=pd.read_csv(FLAGS.file_path+'deviceid_packages.csv')"
   ]
  },
  {
   "cell_type": "code",
   "execution_count": 20,
   "metadata": {},
   "outputs": [],
   "source": [
    "deviceid_train=dev_id_train()"
   ]
  },
  {
   "cell_type": "code",
   "execution_count": 21,
   "metadata": {},
   "outputs": [],
   "source": [
    "deviceid_train=pd.merge(deviceid_packages,deviceid_train,on=['device_id'],how='left') "
   ]
  },
  {
   "cell_type": "code",
   "execution_count": 24,
   "metadata": {},
   "outputs": [],
   "source": [
    "def data_augmentation(deviceid_train):\n",
    "    all_class=deviceid_train['n_class'].value_counts( sort=True,).tolist()\n",
    "    \n",
    "    max_line=min(all_class)\n",
    "    filte=deviceid_train.n_class.values==all_class[-1:]\n",
    "    ret_deviceid_train=deviceid_train.ix[filte,:]\n",
    "    for x in deviceid_train.n_class.unique().tolist():\n",
    "        filte=deviceid_train.n_class.values==x\n",
    "        tmp_deviceid_train=deviceid_train.ix[filte,:]\n",
    "        logging.debug(deviceid_train.n_class.values)\n",
    "        if tmp_deviceid_train.shape[0]>0:\n",
    "            tmp_deviceid_train=tmp_deviceid_train.sample(frac=max_line/tmp_deviceid_train.shape[0])\n",
    "            ret_deviceid_train=pd.concat([ret_deviceid_train,tmp_deviceid_train])\n",
    "    logging.debug(ret_deviceid_train.shape)\n",
    "\n",
    "    logging.debug(ret_deviceid_train['n_class'].value_counts( sort=True,))\n",
    "    \n",
    "    train=ret_deviceid_train.ix[:,['device_id','sex','age','n_class']]\n",
    "    \n",
    "    ret_deviceid_train.drop('sex', axis=1,inplace = True)\n",
    "    ret_deviceid_train.drop('age', axis=1,inplace = True)\n",
    "    ret_deviceid_train.drop('n_class', axis=1,inplace = True)\n",
    "    deviceid_train=shuffle(ret_deviceid_train,random_state =0)\n",
    "\n",
    "    return train,deviceid_train"
   ]
  },
  {
   "cell_type": "code",
   "execution_count": 25,
   "metadata": {},
   "outputs": [
    {
     "name": "stderr",
     "output_type": "stream",
     "text": [
      "2018-09-15 15:04:05,274 - DEBUG - <ipython-input-24-1fe2a68b6f12>:10 - [10. nan 10. ... 18. 21. 10.]\n",
      "2018-09-15 15:04:05,279 - DEBUG - <ipython-input-24-1fe2a68b6f12>:10 - [10. nan 10. ... 18. 21. 10.]\n",
      "2018-09-15 15:04:05,283 - DEBUG - <ipython-input-24-1fe2a68b6f12>:10 - [10. nan 10. ... 18. 21. 10.]\n",
      "2018-09-15 15:04:05,289 - DEBUG - <ipython-input-24-1fe2a68b6f12>:10 - [10. nan 10. ... 18. 21. 10.]\n",
      "2018-09-15 15:04:05,293 - DEBUG - <ipython-input-24-1fe2a68b6f12>:10 - [10. nan 10. ... 18. 21. 10.]\n",
      "2018-09-15 15:04:05,298 - DEBUG - <ipython-input-24-1fe2a68b6f12>:10 - [10. nan 10. ... 18. 21. 10.]\n",
      "2018-09-15 15:04:05,302 - DEBUG - <ipython-input-24-1fe2a68b6f12>:10 - [10. nan 10. ... 18. 21. 10.]\n",
      "2018-09-15 15:04:05,306 - DEBUG - <ipython-input-24-1fe2a68b6f12>:10 - [10. nan 10. ... 18. 21. 10.]\n",
      "2018-09-15 15:04:05,309 - DEBUG - <ipython-input-24-1fe2a68b6f12>:10 - [10. nan 10. ... 18. 21. 10.]\n",
      "2018-09-15 15:04:05,313 - DEBUG - <ipython-input-24-1fe2a68b6f12>:10 - [10. nan 10. ... 18. 21. 10.]\n",
      "2018-09-15 15:04:05,316 - DEBUG - <ipython-input-24-1fe2a68b6f12>:10 - [10. nan 10. ... 18. 21. 10.]\n",
      "2018-09-15 15:04:05,320 - DEBUG - <ipython-input-24-1fe2a68b6f12>:10 - [10. nan 10. ... 18. 21. 10.]\n",
      "2018-09-15 15:04:05,323 - DEBUG - <ipython-input-24-1fe2a68b6f12>:10 - [10. nan 10. ... 18. 21. 10.]\n",
      "2018-09-15 15:04:05,327 - DEBUG - <ipython-input-24-1fe2a68b6f12>:10 - [10. nan 10. ... 18. 21. 10.]\n",
      "2018-09-15 15:04:05,330 - DEBUG - <ipython-input-24-1fe2a68b6f12>:10 - [10. nan 10. ... 18. 21. 10.]\n",
      "2018-09-15 15:04:05,333 - DEBUG - <ipython-input-24-1fe2a68b6f12>:10 - [10. nan 10. ... 18. 21. 10.]\n",
      "2018-09-15 15:04:05,337 - DEBUG - <ipython-input-24-1fe2a68b6f12>:10 - [10. nan 10. ... 18. 21. 10.]\n",
      "2018-09-15 15:04:05,340 - DEBUG - <ipython-input-24-1fe2a68b6f12>:10 - [10. nan 10. ... 18. 21. 10.]\n",
      "2018-09-15 15:04:05,343 - DEBUG - <ipython-input-24-1fe2a68b6f12>:10 - [10. nan 10. ... 18. 21. 10.]\n",
      "2018-09-15 15:04:05,346 - DEBUG - <ipython-input-24-1fe2a68b6f12>:10 - [10. nan 10. ... 18. 21. 10.]\n",
      "2018-09-15 15:04:05,349 - DEBUG - <ipython-input-24-1fe2a68b6f12>:10 - [10. nan 10. ... 18. 21. 10.]\n",
      "2018-09-15 15:04:05,351 - DEBUG - <ipython-input-24-1fe2a68b6f12>:10 - [10. nan 10. ... 18. 21. 10.]\n",
      "2018-09-15 15:04:05,354 - DEBUG - <ipython-input-24-1fe2a68b6f12>:10 - [10. nan 10. ... 18. 21. 10.]\n",
      "2018-09-15 15:04:05,355 - DEBUG - <ipython-input-24-1fe2a68b6f12>:14 - (2398, 5)\n",
      "2018-09-15 15:04:05,357 - DEBUG - <ipython-input-24-1fe2a68b6f12>:16 - 0.0     109\n",
      "12.0    109\n",
      "5.0     109\n",
      "18.0    109\n",
      "16.0    109\n",
      "4.0     109\n",
      "2.0     109\n",
      "8.0     109\n",
      "6.0     109\n",
      "19.0    109\n",
      "20.0    109\n",
      "7.0     109\n",
      "14.0    109\n",
      "3.0     109\n",
      "17.0    109\n",
      "11.0    109\n",
      "9.0     109\n",
      "13.0    109\n",
      "21.0    109\n",
      "1.0     109\n",
      "15.0    109\n",
      "10.0    109\n",
      "Name: n_class, dtype: int64\n",
      "/home/zhijiehuang/anaconda3/lib/python3.6/site-packages/ipykernel_launcher.py:18: DeprecationWarning: \n",
      ".ix is deprecated. Please use\n",
      ".loc for label based indexing or\n",
      ".iloc for positional indexing\n",
      "\n",
      "See the documentation here:\n",
      "http://pandas.pydata.org/pandas-docs/stable/indexing.html#ix-indexer-is-deprecated\n"
     ]
    },
    {
     "ename": "NameError",
     "evalue": "name 'shuffle' is not defined",
     "output_type": "error",
     "traceback": [
      "\u001b[0;31m---------------------------------------------------------------------------\u001b[0m",
      "\u001b[0;31mNameError\u001b[0m                                 Traceback (most recent call last)",
      "\u001b[0;32m<ipython-input-25-f610295665c6>\u001b[0m in \u001b[0;36m<module>\u001b[0;34m()\u001b[0m\n\u001b[0;32m----> 1\u001b[0;31m \u001b[0mtrain\u001b[0m\u001b[0;34m,\u001b[0m\u001b[0mdeviceid_train\u001b[0m\u001b[0;34m=\u001b[0m\u001b[0mdata_augmentation\u001b[0m\u001b[0;34m(\u001b[0m\u001b[0mdeviceid_train\u001b[0m\u001b[0;34m)\u001b[0m\u001b[0;34m\u001b[0m\u001b[0m\n\u001b[0m",
      "\u001b[0;32m<ipython-input-24-1fe2a68b6f12>\u001b[0m in \u001b[0;36mdata_augmentation\u001b[0;34m(deviceid_train)\u001b[0m\n\u001b[1;32m     21\u001b[0m     \u001b[0mret_deviceid_train\u001b[0m\u001b[0;34m.\u001b[0m\u001b[0mdrop\u001b[0m\u001b[0;34m(\u001b[0m\u001b[0;34m'age'\u001b[0m\u001b[0;34m,\u001b[0m \u001b[0maxis\u001b[0m\u001b[0;34m=\u001b[0m\u001b[0;36m1\u001b[0m\u001b[0;34m,\u001b[0m\u001b[0minplace\u001b[0m \u001b[0;34m=\u001b[0m \u001b[0;32mTrue\u001b[0m\u001b[0;34m)\u001b[0m\u001b[0;34m\u001b[0m\u001b[0m\n\u001b[1;32m     22\u001b[0m     \u001b[0mret_deviceid_train\u001b[0m\u001b[0;34m.\u001b[0m\u001b[0mdrop\u001b[0m\u001b[0;34m(\u001b[0m\u001b[0;34m'n_class'\u001b[0m\u001b[0;34m,\u001b[0m \u001b[0maxis\u001b[0m\u001b[0;34m=\u001b[0m\u001b[0;36m1\u001b[0m\u001b[0;34m,\u001b[0m\u001b[0minplace\u001b[0m \u001b[0;34m=\u001b[0m \u001b[0;32mTrue\u001b[0m\u001b[0;34m)\u001b[0m\u001b[0;34m\u001b[0m\u001b[0m\n\u001b[0;32m---> 23\u001b[0;31m     \u001b[0mdeviceid_train\u001b[0m\u001b[0;34m=\u001b[0m\u001b[0mshuffle\u001b[0m\u001b[0;34m(\u001b[0m\u001b[0mret_deviceid_train\u001b[0m\u001b[0;34m,\u001b[0m\u001b[0mrandom_state\u001b[0m \u001b[0;34m=\u001b[0m\u001b[0;36m0\u001b[0m\u001b[0;34m)\u001b[0m\u001b[0;34m\u001b[0m\u001b[0m\n\u001b[0m\u001b[1;32m     24\u001b[0m \u001b[0;34m\u001b[0m\u001b[0m\n\u001b[1;32m     25\u001b[0m     \u001b[0;32mreturn\u001b[0m \u001b[0mtrain\u001b[0m\u001b[0;34m,\u001b[0m\u001b[0mdeviceid_train\u001b[0m\u001b[0;34m\u001b[0m\u001b[0m\n",
      "\u001b[0;31mNameError\u001b[0m: name 'shuffle' is not defined"
     ]
    }
   ],
   "source": [
    "train,deviceid_train=data_augmentation(deviceid_train)"
   ]
  },
  {
   "cell_type": "code",
   "execution_count": 35,
   "metadata": {},
   "outputs": [],
   "source": [
    "deviceid_train.to_csv(FLAGS.file_path+'deviceid_packages.csv',index= False)"
   ]
  },
  {
   "cell_type": "code",
   "execution_count": null,
   "metadata": {},
   "outputs": [],
   "source": [
    "train.to_csv(FLAGS.file_path+'deviceid_train.csv',index= False)"
   ]
  }
 ],
 "metadata": {
  "kernelspec": {
   "display_name": "Python 3",
   "language": "python",
   "name": "python3"
  },
  "language_info": {
   "codemirror_mode": {
    "name": "ipython",
    "version": 3
   },
   "file_extension": ".py",
   "mimetype": "text/x-python",
   "name": "python",
   "nbconvert_exporter": "python",
   "pygments_lexer": "ipython3",
   "version": "3.6.4"
  }
 },
 "nbformat": 4,
 "nbformat_minor": 2
}
