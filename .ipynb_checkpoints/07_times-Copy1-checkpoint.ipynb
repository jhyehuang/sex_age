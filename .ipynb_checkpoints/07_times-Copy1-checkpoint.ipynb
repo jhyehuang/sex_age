{
 "cells": [
  {
   "cell_type": "code",
   "execution_count": 1,
   "metadata": {},
   "outputs": [],
   "source": [
    "import pandas as pd\n",
    "from flags import FLAGS, unparsed\n",
    "import numpy as np\n",
    "from db.conn_db import db,cursor,engine,truncate_table,data_from_mysql,dev_id_train\n",
    "import operator  \n",
    "from functools import reduce"
   ]
  },
  {
   "cell_type": "code",
   "execution_count": 2,
   "metadata": {},
   "outputs": [],
   "source": [
    "deviceid_train=dev_id_train()"
   ]
  },
  {
   "cell_type": "code",
   "execution_count": 3,
   "metadata": {},
   "outputs": [],
   "source": [
    "deviceid_package_start_close= pd.read_csv(FLAGS.file_path +'deviceid_package_start_close.csv',)"
   ]
  },
  {
   "cell_type": "code",
   "execution_count": 4,
   "metadata": {},
   "outputs": [],
   "source": [
    "import time\n",
    "def time_to_day(timeStamp):\n",
    "\n",
    "    # 字符类型的时间\n",
    "    timeArray = time.localtime(timeStamp)\n",
    "    # 转为时间数组\n",
    "    timeArray = time.strftime( \"%Y%m%d\",timeArray)\n",
    "    return int(timeArray)"
   ]
  },
  {
   "cell_type": "code",
   "execution_count": 5,
   "metadata": {
    "scrolled": true
   },
   "outputs": [
    {
     "name": "stderr",
     "output_type": "stream",
     "text": [
      "/home/zhijiehuang/anaconda3/lib/python3.6/site-packages/ipykernel_launcher.py:1: UserWarning: Pandas doesn't allow columns to be created via a new attribute name - see https://pandas.pydata.org/pandas-docs/stable/indexing.html#attribute-access\n",
      "  \"\"\"Entry point for launching an IPython kernel.\n"
     ]
    }
   ],
   "source": [
    "deviceid_package_start_close.close_day=deviceid_package_start_close.close.apply(lambda x:time_to_day(x/1000))"
   ]
  },
  {
   "cell_type": "code",
   "execution_count": 6,
   "metadata": {},
   "outputs": [
    {
     "name": "stderr",
     "output_type": "stream",
     "text": [
      "/home/zhijiehuang/anaconda3/lib/python3.6/site-packages/ipykernel_launcher.py:1: UserWarning: Pandas doesn't allow columns to be created via a new attribute name - see https://pandas.pydata.org/pandas-docs/stable/indexing.html#attribute-access\n",
      "  \"\"\"Entry point for launching an IPython kernel.\n"
     ]
    }
   ],
   "source": [
    "deviceid_package_start_close.start_day=deviceid_package_start_close.start.apply(lambda x:time_to_day(x/1000))"
   ]
  },
  {
   "cell_type": "code",
   "execution_count": 7,
   "metadata": {},
   "outputs": [],
   "source": [
    "cnt=deviceid_package_start_close.groupby(deviceid_package_start_close.start_day).size()\n",
    "deviceid_package_start_close['start_day_cnt']=cnt[deviceid_package_start_close.start_day].values\n",
    "cnt=deviceid_package_start_close.groupby(deviceid_package_start_close.close_day).size()\n",
    "deviceid_package_start_close['close_day_cnt']=cnt[deviceid_package_start_close.close_day].values"
   ]
  },
  {
   "cell_type": "code",
   "execution_count": 8,
   "metadata": {},
   "outputs": [
    {
     "name": "stderr",
     "output_type": "stream",
     "text": [
      "/home/zhijiehuang/anaconda3/lib/python3.6/site-packages/ipykernel_launcher.py:2: DeprecationWarning: \n",
      ".ix is deprecated. Please use\n",
      ".loc for label based indexing or\n",
      ".iloc for positional indexing\n",
      "\n",
      "See the documentation here:\n",
      "http://pandas.pydata.org/pandas-docs/stable/indexing.html#ix-indexer-is-deprecated\n",
      "  \n"
     ]
    }
   ],
   "source": [
    "filte=np.logical_and(deviceid_package_start_close.start_day_cnt>100,deviceid_package_start_close.close_day_cnt>100)\n",
    "deviceid_package_start_close_tmp=deviceid_package_start_close.ix[filte,:]"
   ]
  },
  {
   "cell_type": "code",
   "execution_count": 9,
   "metadata": {
    "scrolled": true
   },
   "outputs": [
    {
     "data": {
      "text/html": [
       "<div>\n",
       "<style scoped>\n",
       "    .dataframe tbody tr th:only-of-type {\n",
       "        vertical-align: middle;\n",
       "    }\n",
       "\n",
       "    .dataframe tbody tr th {\n",
       "        vertical-align: top;\n",
       "    }\n",
       "\n",
       "    .dataframe thead th {\n",
       "        text-align: right;\n",
       "    }\n",
       "</style>\n",
       "<table border=\"1\" class=\"dataframe\">\n",
       "  <thead>\n",
       "    <tr style=\"text-align: right;\">\n",
       "      <th></th>\n",
       "      <th>close</th>\n",
       "      <th>start</th>\n",
       "      <th>start_day_cnt</th>\n",
       "      <th>close_day_cnt</th>\n",
       "    </tr>\n",
       "  </thead>\n",
       "  <tbody>\n",
       "    <tr>\n",
       "      <th>count</th>\n",
       "      <td>3.670212e+07</td>\n",
       "      <td>3.670212e+07</td>\n",
       "      <td>3.670212e+07</td>\n",
       "      <td>3.670212e+07</td>\n",
       "    </tr>\n",
       "    <tr>\n",
       "      <th>mean</th>\n",
       "      <td>1.489213e+12</td>\n",
       "      <td>1.489207e+12</td>\n",
       "      <td>1.165422e+06</td>\n",
       "      <td>1.165930e+06</td>\n",
       "    </tr>\n",
       "    <tr>\n",
       "      <th>std</th>\n",
       "      <td>1.897495e+10</td>\n",
       "      <td>1.913150e+10</td>\n",
       "      <td>1.822555e+05</td>\n",
       "      <td>1.815406e+05</td>\n",
       "    </tr>\n",
       "    <tr>\n",
       "      <th>min</th>\n",
       "      <td>5.997000e+04</td>\n",
       "      <td>5.098800e+04</td>\n",
       "      <td>1.010000e+02</td>\n",
       "      <td>1.010000e+02</td>\n",
       "    </tr>\n",
       "    <tr>\n",
       "      <th>25%</th>\n",
       "      <td>1.488866e+12</td>\n",
       "      <td>1.488866e+12</td>\n",
       "      <td>1.086727e+06</td>\n",
       "      <td>1.086863e+06</td>\n",
       "    </tr>\n",
       "    <tr>\n",
       "      <th>50%</th>\n",
       "      <td>1.489492e+12</td>\n",
       "      <td>1.489491e+12</td>\n",
       "      <td>1.182647e+06</td>\n",
       "      <td>1.183275e+06</td>\n",
       "    </tr>\n",
       "    <tr>\n",
       "      <th>75%</th>\n",
       "      <td>1.490187e+12</td>\n",
       "      <td>1.490186e+12</td>\n",
       "      <td>1.284972e+06</td>\n",
       "      <td>1.285787e+06</td>\n",
       "    </tr>\n",
       "    <tr>\n",
       "      <th>max</th>\n",
       "      <td>1.741183e+12</td>\n",
       "      <td>1.741183e+12</td>\n",
       "      <td>1.396429e+06</td>\n",
       "      <td>1.396552e+06</td>\n",
       "    </tr>\n",
       "  </tbody>\n",
       "</table>\n",
       "</div>"
      ],
      "text/plain": [
       "              close         start  start_day_cnt  close_day_cnt\n",
       "count  3.670212e+07  3.670212e+07   3.670212e+07   3.670212e+07\n",
       "mean   1.489213e+12  1.489207e+12   1.165422e+06   1.165930e+06\n",
       "std    1.897495e+10  1.913150e+10   1.822555e+05   1.815406e+05\n",
       "min    5.997000e+04  5.098800e+04   1.010000e+02   1.010000e+02\n",
       "25%    1.488866e+12  1.488866e+12   1.086727e+06   1.086863e+06\n",
       "50%    1.489492e+12  1.489491e+12   1.182647e+06   1.183275e+06\n",
       "75%    1.490187e+12  1.490186e+12   1.284972e+06   1.285787e+06\n",
       "max    1.741183e+12  1.741183e+12   1.396429e+06   1.396552e+06"
      ]
     },
     "execution_count": 9,
     "metadata": {},
     "output_type": "execute_result"
    }
   ],
   "source": [
    "deviceid_package_start_close_tmp.describe()"
   ]
  },
  {
   "cell_type": "code",
   "execution_count": null,
   "metadata": {},
   "outputs": [],
   "source": []
  }
 ],
 "metadata": {
  "kernelspec": {
   "display_name": "Python 3",
   "language": "python",
   "name": "python3"
  },
  "language_info": {
   "codemirror_mode": {
    "name": "ipython",
    "version": 3
   },
   "file_extension": ".py",
   "mimetype": "text/x-python",
   "name": "python",
   "nbconvert_exporter": "python",
   "pygments_lexer": "ipython3",
   "version": "3.6.4"
  }
 },
 "nbformat": 4,
 "nbformat_minor": 2
}
