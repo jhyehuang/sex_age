{
 "cells": [
  {
   "cell_type": "code",
   "execution_count": 1,
   "metadata": {},
   "outputs": [],
   "source": [
    "import pandas as pd\n",
    "from flags import FLAGS, unparsed\n",
    "import numpy as np\n",
    "from db.conn_db import db,cursor,engine,truncate_table,data_from_mysql,dev_id_train\n",
    "import operator  \n",
    "from functools import reduce\n",
    "import logging\n",
    "from sklearn.utils import shuffle"
   ]
  },
  {
   "cell_type": "code",
   "execution_count": 2,
   "metadata": {},
   "outputs": [],
   "source": [
    "logging.basicConfig(\n",
    "    format='%(asctime)s - %(levelname)s - %(filename)s:%(lineno)d - %(message)s', level=logging.DEBUG)"
   ]
  },
  {
   "cell_type": "code",
   "execution_count": 3,
   "metadata": {},
   "outputs": [],
   "source": [
    "deviceid_packages=pd.read_csv(FLAGS.file_path+'deviceid_packages.csv')"
   ]
  },
  {
   "cell_type": "code",
   "execution_count": 4,
   "metadata": {},
   "outputs": [],
   "source": [
    "deviceid_train=dev_id_train()"
   ]
  },
  {
   "cell_type": "code",
   "execution_count": 5,
   "metadata": {},
   "outputs": [],
   "source": [
    "deviceid_train=pd.merge(deviceid_packages,deviceid_train,on=['device_id'],how='left') "
   ]
  },
  {
   "cell_type": "code",
   "execution_count": 31,
   "metadata": {},
   "outputs": [],
   "source": [
    "def data_augmentation(deviceid_train,class_n):\n",
    "    \n",
    "    filte=deviceid_train.n_class.values==class_n\n",
    "    tmp_deviceid_train=deviceid_train.ix[filte,:]\n",
    "    return tmp_deviceid_train"
   ]
  },
  {
   "cell_type": "code",
   "execution_count": 32,
   "metadata": {},
   "outputs": [
    {
     "name": "stderr",
     "output_type": "stream",
     "text": [
      "/home/zhijiehuang/anaconda3/lib/python3.6/site-packages/ipykernel_launcher.py:6: DeprecationWarning: \n",
      ".ix is deprecated. Please use\n",
      ".loc for label based indexing or\n",
      ".iloc for positional indexing\n",
      "\n",
      "See the documentation here:\n",
      "http://pandas.pydata.org/pandas-docs/stable/indexing.html#ix-indexer-is-deprecated\n",
      "  \n",
      "2018-09-15 15:04:31,434 - DEBUG - <ipython-input-31-1fe2a68b6f12>:10 - [10. nan 10. ... 18. 21. 10.]\n",
      "2018-09-15 15:04:31,439 - DEBUG - <ipython-input-31-1fe2a68b6f12>:10 - [10. nan 10. ... 18. 21. 10.]\n",
      "2018-09-15 15:04:31,442 - DEBUG - <ipython-input-31-1fe2a68b6f12>:10 - [10. nan 10. ... 18. 21. 10.]\n",
      "2018-09-15 15:04:31,447 - DEBUG - <ipython-input-31-1fe2a68b6f12>:10 - [10. nan 10. ... 18. 21. 10.]\n",
      "2018-09-15 15:04:31,451 - DEBUG - <ipython-input-31-1fe2a68b6f12>:10 - [10. nan 10. ... 18. 21. 10.]\n",
      "2018-09-15 15:04:31,456 - DEBUG - <ipython-input-31-1fe2a68b6f12>:10 - [10. nan 10. ... 18. 21. 10.]\n",
      "2018-09-15 15:04:31,459 - DEBUG - <ipython-input-31-1fe2a68b6f12>:10 - [10. nan 10. ... 18. 21. 10.]\n",
      "2018-09-15 15:04:31,463 - DEBUG - <ipython-input-31-1fe2a68b6f12>:10 - [10. nan 10. ... 18. 21. 10.]\n",
      "2018-09-15 15:04:31,467 - DEBUG - <ipython-input-31-1fe2a68b6f12>:10 - [10. nan 10. ... 18. 21. 10.]\n",
      "2018-09-15 15:04:31,471 - DEBUG - <ipython-input-31-1fe2a68b6f12>:10 - [10. nan 10. ... 18. 21. 10.]\n",
      "2018-09-15 15:04:31,475 - DEBUG - <ipython-input-31-1fe2a68b6f12>:10 - [10. nan 10. ... 18. 21. 10.]\n",
      "2018-09-15 15:04:31,479 - DEBUG - <ipython-input-31-1fe2a68b6f12>:10 - [10. nan 10. ... 18. 21. 10.]\n",
      "2018-09-15 15:04:31,482 - DEBUG - <ipython-input-31-1fe2a68b6f12>:10 - [10. nan 10. ... 18. 21. 10.]\n",
      "2018-09-15 15:04:31,486 - DEBUG - <ipython-input-31-1fe2a68b6f12>:10 - [10. nan 10. ... 18. 21. 10.]\n",
      "2018-09-15 15:04:31,490 - DEBUG - <ipython-input-31-1fe2a68b6f12>:10 - [10. nan 10. ... 18. 21. 10.]\n",
      "2018-09-15 15:04:31,493 - DEBUG - <ipython-input-31-1fe2a68b6f12>:10 - [10. nan 10. ... 18. 21. 10.]\n",
      "2018-09-15 15:04:31,496 - DEBUG - <ipython-input-31-1fe2a68b6f12>:10 - [10. nan 10. ... 18. 21. 10.]\n",
      "2018-09-15 15:04:31,502 - DEBUG - <ipython-input-31-1fe2a68b6f12>:10 - [10. nan 10. ... 18. 21. 10.]\n",
      "2018-09-15 15:04:31,508 - DEBUG - <ipython-input-31-1fe2a68b6f12>:10 - [10. nan 10. ... 18. 21. 10.]\n",
      "2018-09-15 15:04:31,513 - DEBUG - <ipython-input-31-1fe2a68b6f12>:10 - [10. nan 10. ... 18. 21. 10.]\n",
      "2018-09-15 15:04:31,518 - DEBUG - <ipython-input-31-1fe2a68b6f12>:10 - [10. nan 10. ... 18. 21. 10.]\n",
      "2018-09-15 15:04:31,522 - DEBUG - <ipython-input-31-1fe2a68b6f12>:10 - [10. nan 10. ... 18. 21. 10.]\n",
      "2018-09-15 15:04:31,525 - DEBUG - <ipython-input-31-1fe2a68b6f12>:10 - [10. nan 10. ... 18. 21. 10.]\n",
      "2018-09-15 15:04:31,527 - DEBUG - <ipython-input-31-1fe2a68b6f12>:14 - (2398, 5)\n",
      "2018-09-15 15:04:31,529 - DEBUG - <ipython-input-31-1fe2a68b6f12>:16 - 0.0     109\n",
      "12.0    109\n",
      "5.0     109\n",
      "18.0    109\n",
      "16.0    109\n",
      "4.0     109\n",
      "2.0     109\n",
      "8.0     109\n",
      "6.0     109\n",
      "19.0    109\n",
      "20.0    109\n",
      "7.0     109\n",
      "14.0    109\n",
      "3.0     109\n",
      "17.0    109\n",
      "11.0    109\n",
      "9.0     109\n",
      "13.0    109\n",
      "21.0    109\n",
      "1.0     109\n",
      "15.0    109\n",
      "10.0    109\n",
      "Name: n_class, dtype: int64\n",
      "/home/zhijiehuang/anaconda3/lib/python3.6/site-packages/ipykernel_launcher.py:18: DeprecationWarning: \n",
      ".ix is deprecated. Please use\n",
      ".loc for label based indexing or\n",
      ".iloc for positional indexing\n",
      "\n",
      "See the documentation here:\n",
      "http://pandas.pydata.org/pandas-docs/stable/indexing.html#ix-indexer-is-deprecated\n"
     ]
    }
   ],
   "source": [
    "train,deviceid_train=data_augmentation(deviceid_train)"
   ]
  },
  {
   "cell_type": "code",
   "execution_count": 33,
   "metadata": {},
   "outputs": [],
   "source": [
    "deviceid_train.to_csv(FLAGS.file_path+'deviceid_packages.csv',index= False)"
   ]
  },
  {
   "cell_type": "code",
   "execution_count": 34,
   "metadata": {},
   "outputs": [],
   "source": [
    "train.to_csv(FLAGS.file_path+'deviceid_train.csv',index= False)"
   ]
  },
  {
   "cell_type": "code",
   "execution_count": null,
   "metadata": {},
   "outputs": [],
   "source": []
  }
 ],
 "metadata": {
  "kernelspec": {
   "display_name": "Python 3",
   "language": "python",
   "name": "python3"
  },
  "language_info": {
   "codemirror_mode": {
    "name": "ipython",
    "version": 3
   },
   "file_extension": ".py",
   "mimetype": "text/x-python",
   "name": "python",
   "nbconvert_exporter": "python",
   "pygments_lexer": "ipython3",
   "version": "3.6.4"
  }
 },
 "nbformat": 4,
 "nbformat_minor": 2
}
