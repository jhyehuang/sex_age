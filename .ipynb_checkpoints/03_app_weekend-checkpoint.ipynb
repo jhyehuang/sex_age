{
 "cells": [
  {
   "cell_type": "code",
   "execution_count": 1,
   "metadata": {},
   "outputs": [
    {
     "name": "stderr",
     "output_type": "stream",
     "text": [
      "/home/zhijiehuang/anaconda3/lib/python3.6/site-packages/sklearn/cross_validation.py:41: DeprecationWarning: This module was deprecated in version 0.18 in favor of the model_selection module into which all the refactored classes and functions are moved. Also note that the interface of the new CV iterators are different from that of this module. This module will be removed in 0.20.\n",
      "  \"This module will be removed in 0.20.\", DeprecationWarning)\n"
     ]
    }
   ],
   "source": [
    "import pandas as pd\n",
    "from flags import FLAGS, unparsed\n",
    "import numpy as np\n",
    "from db.conn_db import db,cursor,engine,truncate_table,data_from_mysql,dev_id_train,get_package_dict\n",
    "import operator  \n",
    "from functools import reduce\n",
    "import time\n",
    "from sklearn.preprocessing import LabelEncoder\n",
    "\n",
    "from scipy.sparse import csr_matrix, hstack\n",
    "import xgboost as xgb\n",
    "from sklearn.cross_validation import StratifiedKFold\n",
    "from sklearn.metrics import log_loss\n",
    "from data_preprocessing import *\n",
    "import datetime"
   ]
  },
  {
   "cell_type": "code",
   "execution_count": 2,
   "metadata": {},
   "outputs": [],
   "source": [
    "deviceid_package_start_close=pd.read_csv(FLAGS.file_path+'deviceid_package_start_close.csv')"
   ]
  },
  {
   "cell_type": "code",
   "execution_count": 3,
   "metadata": {},
   "outputs": [
    {
     "data": {
      "text/html": [
       "<div>\n",
       "<style scoped>\n",
       "    .dataframe tbody tr th:only-of-type {\n",
       "        vertical-align: middle;\n",
       "    }\n",
       "\n",
       "    .dataframe tbody tr th {\n",
       "        vertical-align: top;\n",
       "    }\n",
       "\n",
       "    .dataframe thead th {\n",
       "        text-align: right;\n",
       "    }\n",
       "</style>\n",
       "<table border=\"1\" class=\"dataframe\">\n",
       "  <thead>\n",
       "    <tr style=\"text-align: right;\">\n",
       "      <th></th>\n",
       "      <th>app_id</th>\n",
       "      <th>close</th>\n",
       "      <th>device_id</th>\n",
       "      <th>start</th>\n",
       "    </tr>\n",
       "  </thead>\n",
       "  <tbody>\n",
       "    <tr>\n",
       "      <th>0</th>\n",
       "      <td>1896072db9ce6406febfc17f681c2086</td>\n",
       "      <td>1489025133100</td>\n",
       "      <td>2ae</td>\n",
       "      <td>1489025123086</td>\n",
       "    </tr>\n",
       "    <tr>\n",
       "      <th>1</th>\n",
       "      <td>1896072db9ce6406febfc17f681c2086</td>\n",
       "      <td>1489025398515</td>\n",
       "      <td>e0450666692b72a1f580dfa082e8b2ae</td>\n",
       "      <td>1489025393513</td>\n",
       "    </tr>\n",
       "    <tr>\n",
       "      <th>2</th>\n",
       "      <td>1896072db9ce6406febfc17f681c2086</td>\n",
       "      <td>1489026583522</td>\n",
       "      <td>e0450666692b72a1f580dfa082e8b2ae</td>\n",
       "      <td>1489025463551</td>\n",
       "    </tr>\n",
       "    <tr>\n",
       "      <th>3</th>\n",
       "      <td>1896072db9ce6406febfc17f681c2086</td>\n",
       "      <td>1489034484924</td>\n",
       "      <td>e0450666692b72a1f580dfa082e8b2ae</td>\n",
       "      <td>1489034464940</td>\n",
       "    </tr>\n",
       "    <tr>\n",
       "      <th>4</th>\n",
       "      <td>1896072db9ce6406febfc17f681c2086</td>\n",
       "      <td>1489050201276</td>\n",
       "      <td>e0450666692b72a1f580dfa082e8b2ae</td>\n",
       "      <td>1489050176275</td>\n",
       "    </tr>\n",
       "  </tbody>\n",
       "</table>\n",
       "</div>"
      ],
      "text/plain": [
       "                             app_id          close  \\\n",
       "0  1896072db9ce6406febfc17f681c2086  1489025133100   \n",
       "1  1896072db9ce6406febfc17f681c2086  1489025398515   \n",
       "2  1896072db9ce6406febfc17f681c2086  1489026583522   \n",
       "3  1896072db9ce6406febfc17f681c2086  1489034484924   \n",
       "4  1896072db9ce6406febfc17f681c2086  1489050201276   \n",
       "\n",
       "                          device_id          start  \n",
       "0                               2ae  1489025123086  \n",
       "1  e0450666692b72a1f580dfa082e8b2ae  1489025393513  \n",
       "2  e0450666692b72a1f580dfa082e8b2ae  1489025463551  \n",
       "3  e0450666692b72a1f580dfa082e8b2ae  1489034464940  \n",
       "4  e0450666692b72a1f580dfa082e8b2ae  1489050176275  "
      ]
     },
     "execution_count": 3,
     "metadata": {},
     "output_type": "execute_result"
    }
   ],
   "source": [
    "deviceid_package_start_close.head(5)"
   ]
  },
  {
   "cell_type": "markdown",
   "metadata": {},
   "source": [
    "### app_id 打开的小时、 周几 、时长 、每个app对应的t1"
   ]
  },
  {
   "cell_type": "code",
   "execution_count": 4,
   "metadata": {},
   "outputs": [],
   "source": [
    "def time_to_hour(timeStamp):\n",
    "    # 字符类型的时间\n",
    "    timeArray = time.localtime(int(timeStamp))\n",
    "#    print(timeArray)\n",
    "    # 转为时间数组\n",
    "#    timeArray = time.strptime(timeArray, \"%Y-%m-%d %H:%M:%S\")\n",
    "    return timeArray.tm_hour   #"
   ]
  },
  {
   "cell_type": "code",
   "execution_count": 17,
   "metadata": {},
   "outputs": [],
   "source": [
    "def def_hour_bin(hour):\n",
    "    if hour>=0 and hour<2:\n",
    "        return '子'\n",
    "    elif hour>=2 and hour<4:\n",
    "        return '丑'\n",
    "    elif hour>=4 and hour<6:\n",
    "        return '寅'\n",
    "    elif hour>=6 and hour<8:\n",
    "        return '卯'\n",
    "    elif hour>=8 and hour<10:\n",
    "        return '辰'\n",
    "    elif hour>=10 and hour<12:\n",
    "        return '巳'\n",
    "    elif hour>=12 and hour<14:\n",
    "        return '午'\n",
    "    elif hour>=14 and hour<16:\n",
    "        return '未'\n",
    "    elif hour>=16 and hour<18:\n",
    "        return '申'\n",
    "    elif hour>=18 and hour<20:\n",
    "        return '酉'\n",
    "    elif hour>=20 and hour<22:\n",
    "        return '戌'\n",
    "    elif hour>=22 and hour<24:\n",
    "        return '亥'"
   ]
  },
  {
   "cell_type": "code",
   "execution_count": 6,
   "metadata": {},
   "outputs": [],
   "source": [
    "def time_to_week(timeStamp):\n",
    "    timeArray =int(timeStamp)\n",
    "    date = datetime.datetime.fromtimestamp(timeArray)\n",
    "    day=date.weekday()\n",
    "#    logging.debug(day)\n",
    "    return str(day+1)   # 2013"
   ]
  },
  {
   "cell_type": "code",
   "execution_count": 12,
   "metadata": {},
   "outputs": [],
   "source": [
    "def time_len(line):\n",
    "    timeArray =(line['close']-line['start'])/1000/60\n",
    "    return timeArray"
   ]
  },
  {
   "cell_type": "code",
   "execution_count": 18,
   "metadata": {},
   "outputs": [],
   "source": [
    "# extract hour of the day from the timestamp \n",
    "deviceid_package_start_close['today_hour'] = deviceid_package_start_close['start'].map(lambda x:time_to_hour(x/1000))\n",
    "deviceid_package_start_close['hour_bin'] = deviceid_package_start_close['today_hour'].apply(def_hour_bin)"
   ]
  },
  {
   "cell_type": "code",
   "execution_count": 9,
   "metadata": {},
   "outputs": [],
   "source": [
    "deviceid_package_start_close=deviceid_package_start_close.dropna()\n"
   ]
  },
  {
   "cell_type": "code",
   "execution_count": 10,
   "metadata": {},
   "outputs": [],
   "source": [
    "deviceid_package_start_close['week'] = deviceid_package_start_close['start'].map(lambda x:time_to_week(x/1000))\n"
   ]
  },
  {
   "cell_type": "code",
   "execution_count": 13,
   "metadata": {},
   "outputs": [],
   "source": [
    "deviceid_package_start_close['time_len'] = deviceid_package_start_close.apply(lambda x:time_len(x),axis=1)\n"
   ]
  },
  {
   "cell_type": "code",
   "execution_count": 14,
   "metadata": {},
   "outputs": [],
   "source": [
    "def to_t(app):\n",
    "    ret=get_package_dict(app,'t1')\n",
    "    if len(ret)>0:\n",
    "        return ret[0]['t1']\n"
   ]
  },
  {
   "cell_type": "code",
   "execution_count": 15,
   "metadata": {},
   "outputs": [],
   "source": [
    "deviceid_package_start_close['app_t1'] = deviceid_package_start_close.app_id.apply(lambda x:to_t(x))"
   ]
  },
  {
   "cell_type": "code",
   "execution_count": 47,
   "metadata": {},
   "outputs": [],
   "source": [
    "fil1=np.logical_and(deviceid_package_start_close.start>=1325400566 , deviceid_package_start_close.start<=1514789366)\n",
    "fil2=np.logical_and(deviceid_package_start_close.close>=1325400566 , deviceid_package_start_close.close<=1514789366)"
   ]
  },
  {
   "cell_type": "code",
   "execution_count": 48,
   "metadata": {},
   "outputs": [
    {
     "name": "stderr",
     "output_type": "stream",
     "text": [
      "/home/zhijiehuang/anaconda3/lib/python3.6/site-packages/ipykernel_launcher.py:1: DeprecationWarning: \n",
      ".ix is deprecated. Please use\n",
      ".loc for label based indexing or\n",
      ".iloc for positional indexing\n",
      "\n",
      "See the documentation here:\n",
      "http://pandas.pydata.org/pandas-docs/stable/indexing.html#ix-indexer-is-deprecated\n",
      "  \"\"\"Entry point for launching an IPython kernel.\n"
     ]
    }
   ],
   "source": [
    "deviceid_package_start_close_tmp=deviceid_package_start_close.ix[np.logical_and(fil1,fil2),:]"
   ]
  },
  {
   "cell_type": "code",
   "execution_count": 49,
   "metadata": {},
   "outputs": [],
   "source": [
    "deviceid_package_start_close_tmp.to_csv(FLAGS.file_path+'shichen_start_clost_times.csv',index= False)"
   ]
  },
  {
   "cell_type": "code",
   "execution_count": 21,
   "metadata": {},
   "outputs": [
    {
     "data": {
      "text/html": [
       "<div>\n",
       "<style scoped>\n",
       "    .dataframe tbody tr th:only-of-type {\n",
       "        vertical-align: middle;\n",
       "    }\n",
       "\n",
       "    .dataframe tbody tr th {\n",
       "        vertical-align: top;\n",
       "    }\n",
       "\n",
       "    .dataframe thead th {\n",
       "        text-align: right;\n",
       "    }\n",
       "</style>\n",
       "<table border=\"1\" class=\"dataframe\">\n",
       "  <thead>\n",
       "    <tr style=\"text-align: right;\">\n",
       "      <th></th>\n",
       "      <th>app_id</th>\n",
       "      <th>close</th>\n",
       "      <th>device_id</th>\n",
       "      <th>start</th>\n",
       "      <th>today_hour</th>\n",
       "      <th>hour_bin</th>\n",
       "      <th>week</th>\n",
       "      <th>time_len</th>\n",
       "      <th>app_t1</th>\n",
       "    </tr>\n",
       "  </thead>\n",
       "  <tbody>\n",
       "    <tr>\n",
       "      <th>0</th>\n",
       "      <td>1896072db9ce6406febfc17f681c2086</td>\n",
       "      <td>1489025133100</td>\n",
       "      <td>2ae</td>\n",
       "      <td>1489025123086</td>\n",
       "      <td>10</td>\n",
       "      <td>巳</td>\n",
       "      <td>4</td>\n",
       "      <td>0.166900</td>\n",
       "      <td>社交</td>\n",
       "    </tr>\n",
       "    <tr>\n",
       "      <th>1</th>\n",
       "      <td>1896072db9ce6406febfc17f681c2086</td>\n",
       "      <td>1489025398515</td>\n",
       "      <td>e0450666692b72a1f580dfa082e8b2ae</td>\n",
       "      <td>1489025393513</td>\n",
       "      <td>10</td>\n",
       "      <td>巳</td>\n",
       "      <td>4</td>\n",
       "      <td>0.083367</td>\n",
       "      <td>社交</td>\n",
       "    </tr>\n",
       "    <tr>\n",
       "      <th>2</th>\n",
       "      <td>1896072db9ce6406febfc17f681c2086</td>\n",
       "      <td>1489026583522</td>\n",
       "      <td>e0450666692b72a1f580dfa082e8b2ae</td>\n",
       "      <td>1489025463551</td>\n",
       "      <td>10</td>\n",
       "      <td>巳</td>\n",
       "      <td>4</td>\n",
       "      <td>18.666183</td>\n",
       "      <td>社交</td>\n",
       "    </tr>\n",
       "    <tr>\n",
       "      <th>3</th>\n",
       "      <td>1896072db9ce6406febfc17f681c2086</td>\n",
       "      <td>1489034484924</td>\n",
       "      <td>e0450666692b72a1f580dfa082e8b2ae</td>\n",
       "      <td>1489034464940</td>\n",
       "      <td>12</td>\n",
       "      <td>午</td>\n",
       "      <td>4</td>\n",
       "      <td>0.333067</td>\n",
       "      <td>社交</td>\n",
       "    </tr>\n",
       "    <tr>\n",
       "      <th>4</th>\n",
       "      <td>1896072db9ce6406febfc17f681c2086</td>\n",
       "      <td>1489050201276</td>\n",
       "      <td>e0450666692b72a1f580dfa082e8b2ae</td>\n",
       "      <td>1489050176275</td>\n",
       "      <td>17</td>\n",
       "      <td>申</td>\n",
       "      <td>4</td>\n",
       "      <td>0.416683</td>\n",
       "      <td>社交</td>\n",
       "    </tr>\n",
       "  </tbody>\n",
       "</table>\n",
       "</div>"
      ],
      "text/plain": [
       "                             app_id          close  \\\n",
       "0  1896072db9ce6406febfc17f681c2086  1489025133100   \n",
       "1  1896072db9ce6406febfc17f681c2086  1489025398515   \n",
       "2  1896072db9ce6406febfc17f681c2086  1489026583522   \n",
       "3  1896072db9ce6406febfc17f681c2086  1489034484924   \n",
       "4  1896072db9ce6406febfc17f681c2086  1489050201276   \n",
       "\n",
       "                          device_id          start  today_hour hour_bin week  \\\n",
       "0                               2ae  1489025123086          10        巳    4   \n",
       "1  e0450666692b72a1f580dfa082e8b2ae  1489025393513          10        巳    4   \n",
       "2  e0450666692b72a1f580dfa082e8b2ae  1489025463551          10        巳    4   \n",
       "3  e0450666692b72a1f580dfa082e8b2ae  1489034464940          12        午    4   \n",
       "4  e0450666692b72a1f580dfa082e8b2ae  1489050176275          17        申    4   \n",
       "\n",
       "    time_len app_t1  \n",
       "0   0.166900    社交   \n",
       "1   0.083367    社交   \n",
       "2  18.666183    社交   \n",
       "3   0.333067    社交   \n",
       "4   0.416683    社交   "
      ]
     },
     "execution_count": 21,
     "metadata": {},
     "output_type": "execute_result"
    }
   ],
   "source": [
    "deviceid_package_start_close.head(5)"
   ]
  },
  {
   "cell_type": "code",
   "execution_count": 43,
   "metadata": {},
   "outputs": [],
   "source": [
    "col=[]\n",
    "for a in deviceid_package_start_close.week.unique():\n",
    "    for b in deviceid_package_start_close.hour_bin.unique():\n",
    "        for c in deviceid_package_start_close.app_t1.unique():\n",
    "            col.append(a+'_'+b+'_'+c)"
   ]
  },
  {
   "cell_type": "code",
   "execution_count": 44,
   "metadata": {},
   "outputs": [],
   "source": [
    "empty=pd.DataFrame(columns=col)"
   ]
  },
  {
   "cell_type": "code",
   "execution_count": 45,
   "metadata": {
    "collapsed": true
   },
   "outputs": [
    {
     "data": {
      "text/html": [
       "<div>\n",
       "<style scoped>\n",
       "    .dataframe tbody tr th:only-of-type {\n",
       "        vertical-align: middle;\n",
       "    }\n",
       "\n",
       "    .dataframe tbody tr th {\n",
       "        vertical-align: top;\n",
       "    }\n",
       "\n",
       "    .dataframe thead th {\n",
       "        text-align: right;\n",
       "    }\n",
       "</style>\n",
       "<table border=\"1\" class=\"dataframe\">\n",
       "  <thead>\n",
       "    <tr style=\"text-align: right;\">\n",
       "      <th></th>\n",
       "      <th>4_巳_ 社交</th>\n",
       "      <th>4_巳_ 金融</th>\n",
       "      <th>4_巳_ 旅游</th>\n",
       "      <th>4_巳_ 应用管理</th>\n",
       "      <th>4_巳_ 移动购物</th>\n",
       "      <th>4_巳_ 竞速</th>\n",
       "      <th>4_巳_ 资讯</th>\n",
       "      <th>4_巳_ 系统工具</th>\n",
       "      <th>4_巳_ 视频直播</th>\n",
       "      <th>4_巳_ 体育</th>\n",
       "      <th>...</th>\n",
       "      <th>1_丑_ 汽车</th>\n",
       "      <th>1_丑_ 射击</th>\n",
       "      <th>1_丑_ 地图导航</th>\n",
       "      <th>1_丑_ 卡牌</th>\n",
       "      <th>1_丑_ 美食</th>\n",
       "      <th>1_丑_ 企业级应用</th>\n",
       "      <th>1_丑_ 医疗</th>\n",
       "      <th>1_丑_ 体育竞技</th>\n",
       "      <th>1_丑_ 房产</th>\n",
       "      <th>1_丑_ 母婴亲子</th>\n",
       "    </tr>\n",
       "  </thead>\n",
       "  <tbody>\n",
       "  </tbody>\n",
       "</table>\n",
       "<p>0 rows × 3780 columns</p>\n",
       "</div>"
      ],
      "text/plain": [
       "Empty DataFrame\n",
       "Columns: [4_巳_ 社交 , 4_巳_ 金融 , 4_巳_ 旅游 , 4_巳_ 应用管理 , 4_巳_ 移动购物 , 4_巳_ 竞速 , 4_巳_ 资讯 , 4_巳_ 系统工具 , 4_巳_ 视频直播 , 4_巳_ 体育 , 4_巳_ 生活 , 4_巳_ 实用工具 , 4_巳_ 其它 , 4_巳_ TAB(桌面游戏) , 4_巳_ 摄影摄像 , 4_巳_ SIM(模拟游戏) , 4_巳_ 教育 , 4_巳_ 智能硬件 , 4_巳_ 视频 , 4_巳_ ACT(动作类游戏) , 4_巳_ 游戏工具 , 4_巳_ 动漫娱乐 , 4_巳_ 休闲 , 4_巳_ RPG(角色扮演游戏) , 4_巳_ 浏览器 , 4_巳_ SLG(策略游戏) , 4_巳_ 健康 , 4_巳_ 通讯 , 4_巳_ 商务办公 , 4_巳_ 输入法 , 4_巳_ 移动阅读 , 4_巳_ 游戏平台 , 4_巳_ 交通出行 , 4_巳_ 音频娱乐 , 4_巳_ 游戏媒体 , 4_巳_ 汽车 , 4_巳_ 射击 , 4_巳_ 地图导航 , 4_巳_ 卡牌 , 4_巳_ 美食 , 4_巳_ 企业级应用 , 4_巳_ 医疗 , 4_巳_ 体育竞技 , 4_巳_ 房产 , 4_巳_ 母婴亲子 , 4_午_ 社交 , 4_午_ 金融 , 4_午_ 旅游 , 4_午_ 应用管理 , 4_午_ 移动购物 , 4_午_ 竞速 , 4_午_ 资讯 , 4_午_ 系统工具 , 4_午_ 视频直播 , 4_午_ 体育 , 4_午_ 生活 , 4_午_ 实用工具 , 4_午_ 其它 , 4_午_ TAB(桌面游戏) , 4_午_ 摄影摄像 , 4_午_ SIM(模拟游戏) , 4_午_ 教育 , 4_午_ 智能硬件 , 4_午_ 视频 , 4_午_ ACT(动作类游戏) , 4_午_ 游戏工具 , 4_午_ 动漫娱乐 , 4_午_ 休闲 , 4_午_ RPG(角色扮演游戏) , 4_午_ 浏览器 , 4_午_ SLG(策略游戏) , 4_午_ 健康 , 4_午_ 通讯 , 4_午_ 商务办公 , 4_午_ 输入法 , 4_午_ 移动阅读 , 4_午_ 游戏平台 , 4_午_ 交通出行 , 4_午_ 音频娱乐 , 4_午_ 游戏媒体 , 4_午_ 汽车 , 4_午_ 射击 , 4_午_ 地图导航 , 4_午_ 卡牌 , 4_午_ 美食 , 4_午_ 企业级应用 , 4_午_ 医疗 , 4_午_ 体育竞技 , 4_午_ 房产 , 4_午_ 母婴亲子 , 4_申_ 社交 , 4_申_ 金融 , 4_申_ 旅游 , 4_申_ 应用管理 , 4_申_ 移动购物 , 4_申_ 竞速 , 4_申_ 资讯 , 4_申_ 系统工具 , 4_申_ 视频直播 , 4_申_ 体育 , ...]\n",
       "Index: []\n",
       "\n",
       "[0 rows x 3780 columns]"
      ]
     },
     "execution_count": 45,
     "metadata": {},
     "output_type": "execute_result"
    }
   ],
   "source": [
    "empty"
   ]
  },
  {
   "cell_type": "code",
   "execution_count": 46,
   "metadata": {},
   "outputs": [],
   "source": [
    "empty.to_csv(FLAGS.file_path+'week_hour_bin_app_t1_columns.csv',index= False)"
   ]
  },
  {
   "cell_type": "code",
   "execution_count": null,
   "metadata": {},
   "outputs": [],
   "source": []
  }
 ],
 "metadata": {
  "kernelspec": {
   "display_name": "Python 3",
   "language": "python",
   "name": "python3"
  },
  "language_info": {
   "codemirror_mode": {
    "name": "ipython",
    "version": 3
   },
   "file_extension": ".py",
   "mimetype": "text/x-python",
   "name": "python",
   "nbconvert_exporter": "python",
   "pygments_lexer": "ipython3",
   "version": "3.6.4"
  }
 },
 "nbformat": 4,
 "nbformat_minor": 2
}
