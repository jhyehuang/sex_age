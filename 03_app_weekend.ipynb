{
 "cells": [
  {
   "cell_type": "code",
   "execution_count": 45,
   "metadata": {},
   "outputs": [],
   "source": [
    "import pandas as pd\n",
    "from flags import FLAGS, unparsed\n",
    "import numpy as np\n",
    "from db.conn_db import db,cursor,engine,truncate_table,data_from_mysql,dev_id_train,get_package_dict\n",
    "import operator  \n",
    "from functools import reduce\n",
    "import time\n",
    "from sklearn.preprocessing import LabelEncoder\n",
    "\n",
    "from scipy.sparse import csr_matrix, hstack\n",
    "import xgboost as xgb\n",
    "from sklearn.cross_validation import StratifiedKFold\n",
    "from sklearn.metrics import log_loss\n",
    "from data_preprocessing import *\n",
    "import datetime"
   ]
  },
  {
   "cell_type": "code",
   "execution_count": 3,
   "metadata": {},
   "outputs": [],
   "source": [
    "deviceid_package_start_close=pd.read_csv(FLAGS.file_path+'deviceid_package_start_close.csv')"
   ]
  },
  {
   "cell_type": "code",
   "execution_count": 11,
   "metadata": {},
   "outputs": [
    {
     "data": {
      "text/html": [
       "<div>\n",
       "<style scoped>\n",
       "    .dataframe tbody tr th:only-of-type {\n",
       "        vertical-align: middle;\n",
       "    }\n",
       "\n",
       "    .dataframe tbody tr th {\n",
       "        vertical-align: top;\n",
       "    }\n",
       "\n",
       "    .dataframe thead th {\n",
       "        text-align: right;\n",
       "    }\n",
       "</style>\n",
       "<table border=\"1\" class=\"dataframe\">\n",
       "  <thead>\n",
       "    <tr style=\"text-align: right;\">\n",
       "      <th></th>\n",
       "      <th>app_id</th>\n",
       "      <th>close</th>\n",
       "      <th>device_id</th>\n",
       "      <th>start</th>\n",
       "    </tr>\n",
       "  </thead>\n",
       "  <tbody>\n",
       "    <tr>\n",
       "      <th>0</th>\n",
       "      <td>1896072db9ce6406febfc17f681c2086</td>\n",
       "      <td>1489025133100</td>\n",
       "      <td>2ae</td>\n",
       "      <td>1489025123086</td>\n",
       "    </tr>\n",
       "    <tr>\n",
       "      <th>1</th>\n",
       "      <td>1896072db9ce6406febfc17f681c2086</td>\n",
       "      <td>1489025398515</td>\n",
       "      <td>e0450666692b72a1f580dfa082e8b2ae</td>\n",
       "      <td>1489025393513</td>\n",
       "    </tr>\n",
       "    <tr>\n",
       "      <th>2</th>\n",
       "      <td>1896072db9ce6406febfc17f681c2086</td>\n",
       "      <td>1489026583522</td>\n",
       "      <td>e0450666692b72a1f580dfa082e8b2ae</td>\n",
       "      <td>1489025463551</td>\n",
       "    </tr>\n",
       "    <tr>\n",
       "      <th>3</th>\n",
       "      <td>1896072db9ce6406febfc17f681c2086</td>\n",
       "      <td>1489034484924</td>\n",
       "      <td>e0450666692b72a1f580dfa082e8b2ae</td>\n",
       "      <td>1489034464940</td>\n",
       "    </tr>\n",
       "    <tr>\n",
       "      <th>4</th>\n",
       "      <td>1896072db9ce6406febfc17f681c2086</td>\n",
       "      <td>1489050201276</td>\n",
       "      <td>e0450666692b72a1f580dfa082e8b2ae</td>\n",
       "      <td>1489050176275</td>\n",
       "    </tr>\n",
       "  </tbody>\n",
       "</table>\n",
       "</div>"
      ],
      "text/plain": [
       "                             app_id          close  \\\n",
       "0  1896072db9ce6406febfc17f681c2086  1489025133100   \n",
       "1  1896072db9ce6406febfc17f681c2086  1489025398515   \n",
       "2  1896072db9ce6406febfc17f681c2086  1489026583522   \n",
       "3  1896072db9ce6406febfc17f681c2086  1489034484924   \n",
       "4  1896072db9ce6406febfc17f681c2086  1489050201276   \n",
       "\n",
       "                          device_id          start  \n",
       "0                               2ae  1489025123086  \n",
       "1  e0450666692b72a1f580dfa082e8b2ae  1489025393513  \n",
       "2  e0450666692b72a1f580dfa082e8b2ae  1489025463551  \n",
       "3  e0450666692b72a1f580dfa082e8b2ae  1489034464940  \n",
       "4  e0450666692b72a1f580dfa082e8b2ae  1489050176275  "
      ]
     },
     "execution_count": 11,
     "metadata": {},
     "output_type": "execute_result"
    }
   ],
   "source": [
    "deviceid_package_start_close.head(5)"
   ]
  },
  {
   "cell_type": "markdown",
   "metadata": {},
   "source": [
    "### app_id 打开的小时、 周几 、时长 、每个app对应的t1"
   ]
  },
  {
   "cell_type": "code",
   "execution_count": 17,
   "metadata": {},
   "outputs": [],
   "source": [
    "def time_to_hour(timeStamp):\n",
    "    # 字符类型的时间\n",
    "    timeArray = time.localtime(int(timeStamp))\n",
    "#    print(timeArray)\n",
    "    # 转为时间数组\n",
    "#    timeArray = time.strptime(timeArray, \"%Y-%m-%d %H:%M:%S\")\n",
    "    return timeArray.tm_hour   # 2013"
   ]
  },
  {
   "cell_type": "code",
   "execution_count": 18,
   "metadata": {},
   "outputs": [],
   "source": [
    "def def_hour_bin(hour):\n",
    "    if hour>=0 and hour<2:\n",
    "        return 0\n",
    "    elif hour>=2 and hour<4:\n",
    "        return 1\n",
    "    elif hour>=4 and hour<6:\n",
    "        return 2\n",
    "    elif hour>=6 and hour<8:\n",
    "        return 3\n",
    "    elif hour>=8 and hour<10:\n",
    "        return 4\n",
    "    elif hour>=10 and hour<12:\n",
    "        return 5\n",
    "    elif hour>=12 and hour<14:\n",
    "        return 6\n",
    "    elif hour>=14 and hour<16:\n",
    "        return 7\n",
    "    elif hour>=16 and hour<18:\n",
    "        return 8\n",
    "    elif hour>=18 and hour<20:\n",
    "        return 9\n",
    "    elif hour>=20 and hour<22:\n",
    "        return 10\n",
    "    elif hour>=22 and hour<24:\n",
    "        return 11"
   ]
  },
  {
   "cell_type": "code",
   "execution_count": 30,
   "metadata": {},
   "outputs": [],
   "source": [
    "def time_to_week(timeStamp):\n",
    "    timeArray =int(timeStamp)\n",
    "    date = datetime.datetime.fromtimestamp(timeArray)\n",
    "    day=date.weekday()\n",
    "#    logging.debug(day)\n",
    "    return str(day+1)   # 2013"
   ]
  },
  {
   "cell_type": "code",
   "execution_count": 20,
   "metadata": {},
   "outputs": [],
   "source": [
    "def time_len(line):\n",
    "    timeArray =(line['close']-line['start'])/1000\n",
    "    return timeArray"
   ]
  },
  {
   "cell_type": "code",
   "execution_count": 21,
   "metadata": {},
   "outputs": [],
   "source": [
    "# extract hour of the day from the timestamp \n",
    "deviceid_package_start_close['today_hour'] = deviceid_package_start_close['start'].map(lambda x:time_to_hour(x/1000))\n",
    "deviceid_package_start_close['hour_bin'] = deviceid_package_start_close['today_hour'].apply(def_hour_bin)"
   ]
  },
  {
   "cell_type": "code",
   "execution_count": 25,
   "metadata": {},
   "outputs": [],
   "source": [
    "deviceid_package_start_close=deviceid_package_start_close.dropna()\n"
   ]
  },
  {
   "cell_type": "code",
   "execution_count": 31,
   "metadata": {},
   "outputs": [],
   "source": [
    "deviceid_package_start_close['week'] = deviceid_package_start_close['start'].map(lambda x:time_to_week(x/1000))\n"
   ]
  },
  {
   "cell_type": "code",
   "execution_count": 32,
   "metadata": {},
   "outputs": [],
   "source": [
    "deviceid_package_start_close['time_len'] = deviceid_package_start_close.apply(lambda x:time_len(x),axis=1)\n"
   ]
  },
  {
   "cell_type": "code",
   "execution_count": 1,
   "metadata": {},
   "outputs": [],
   "source": [
    "def to_t2(app):\n",
    "    ret=get_package_dict(app,'t2')\n",
    "    if len(ret)>0:\n",
    "        return ret[0]['t2']\n"
   ]
  },
  {
   "cell_type": "code",
   "execution_count": null,
   "metadata": {},
   "outputs": [],
   "source": [
    "deviceid_package_start_close['app_t2'] = deviceid_package_start_close.app_id.apply(lambda x:to_t2(x))"
   ]
  }
 ],
 "metadata": {
  "kernelspec": {
   "display_name": "Python 3",
   "language": "python",
   "name": "python3"
  },
  "language_info": {
   "codemirror_mode": {
    "name": "ipython",
    "version": 3
   },
   "file_extension": ".py",
   "mimetype": "text/x-python",
   "name": "python",
   "nbconvert_exporter": "python",
   "pygments_lexer": "ipython3",
   "version": "3.6.4"
  }
 },
 "nbformat": 4,
 "nbformat_minor": 2
}
