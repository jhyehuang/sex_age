{
 "cells": [
  {
   "cell_type": "code",
   "execution_count": 16,
   "metadata": {},
   "outputs": [
    {
     "name": "stderr",
     "output_type": "stream",
     "text": [
      "/home/zhijiehuang/anaconda3/lib/python3.6/site-packages/sklearn/cross_validation.py:41: DeprecationWarning: This module was deprecated in version 0.18 in favor of the model_selection module into which all the refactored classes and functions are moved. Also note that the interface of the new CV iterators are different from that of this module. This module will be removed in 0.20.\n",
      "  \"This module will be removed in 0.20.\", DeprecationWarning)\n"
     ]
    }
   ],
   "source": [
    "import pandas as pd\n",
    "from flags import FLAGS, unparsed\n",
    "import numpy as np\n",
    "from db.conn_db import db,cursor,engine,truncate_table,data_from_mysql,dev_id_train\n",
    "import operator  \n",
    "from functools import reduce\n",
    "import logging\n",
    "from sklearn.utils import shuffle\n",
    "\n",
    "\n",
    "import matplotlib.pyplot as plt\n",
    "import seaborn as sns\n",
    "from sklearn.preprocessing import LabelEncoder\n",
    "from sklearn.metrics import log_loss\n",
    "from sklearn.cross_validation import KFold\n",
    "%matplotlib inline\n"
   ]
  },
  {
   "cell_type": "code",
   "execution_count": 17,
   "metadata": {},
   "outputs": [],
   "source": [
    "logging.basicConfig(\n",
    "    format='%(asctime)s - %(levelname)s - %(filename)s:%(lineno)d - %(message)s', level=logging.DEBUG)"
   ]
  },
  {
   "cell_type": "code",
   "execution_count": 18,
   "metadata": {},
   "outputs": [],
   "source": [
    "deviceid_packages=pd.read_csv(FLAGS.file_path+'deviceid_packages.csv')"
   ]
  },
  {
   "cell_type": "code",
   "execution_count": 19,
   "metadata": {},
   "outputs": [],
   "source": [
    "deviceid_brand=pd.read_csv(FLAGS.file_path+'deviceid_brand.csv')"
   ]
  },
  {
   "cell_type": "code",
   "execution_count": 20,
   "metadata": {},
   "outputs": [],
   "source": [
    "deviceid_train=dev_id_train()"
   ]
  },
  {
   "cell_type": "code",
   "execution_count": 21,
   "metadata": {},
   "outputs": [],
   "source": [
    "deviceid_train=pd.merge(deviceid_packages,deviceid_train,on=['device_id'],how='left') \n",
    "deviceid_train=pd.merge(deviceid_train,deviceid_brand,on=['device_id'],how='left') "
   ]
  },
  {
   "cell_type": "code",
   "execution_count": 22,
   "metadata": {},
   "outputs": [],
   "source": [
    "def data_ix(deviceid_train,class_n):\n",
    "    \n",
    "    filte=deviceid_train.n_class.values==class_n\n",
    "    tmp_deviceid_train=deviceid_train.ix[filte,:]\n",
    "    return tmp_deviceid_train"
   ]
  },
  {
   "cell_type": "code",
   "execution_count": 28,
   "metadata": {},
   "outputs": [],
   "source": [
    "deviceid_train_1=data_ix(deviceid_train,1)"
   ]
  },
  {
   "cell_type": "code",
   "execution_count": 38,
   "metadata": {},
   "outputs": [
    {
     "data": {
      "text/html": [
       "<div>\n",
       "<style scoped>\n",
       "    .dataframe tbody tr th:only-of-type {\n",
       "        vertical-align: middle;\n",
       "    }\n",
       "\n",
       "    .dataframe tbody tr th {\n",
       "        vertical-align: top;\n",
       "    }\n",
       "\n",
       "    .dataframe thead th {\n",
       "        text-align: right;\n",
       "    }\n",
       "</style>\n",
       "<table border=\"1\" class=\"dataframe\">\n",
       "  <thead>\n",
       "    <tr style=\"text-align: right;\">\n",
       "      <th></th>\n",
       "      <th>app_id_list</th>\n",
       "      <th>device_id</th>\n",
       "      <th>age</th>\n",
       "      <th>sex</th>\n",
       "      <th>n_class</th>\n",
       "      <th>brand</th>\n",
       "      <th>type_no</th>\n",
       "    </tr>\n",
       "  </thead>\n",
       "  <tbody>\n",
       "    <tr>\n",
       "      <th>65923</th>\n",
       "      <td>7ea40f20920105b4d5d69a867982186b|1896072db9ce6...</td>\n",
       "      <td>e80eee32391fd1ed9e0763e76cb77d62</td>\n",
       "      <td>1.0</td>\n",
       "      <td>1.0</td>\n",
       "      <td>1.0</td>\n",
       "      <td>2014811</td>\n",
       "      <td>2014811.HM2014811.2014811</td>\n",
       "    </tr>\n",
       "  </tbody>\n",
       "</table>\n",
       "</div>"
      ],
      "text/plain": [
       "                                             app_id_list  \\\n",
       "65923  7ea40f20920105b4d5d69a867982186b|1896072db9ce6...   \n",
       "\n",
       "                              device_id  age  sex  n_class    brand  \\\n",
       "65923  e80eee32391fd1ed9e0763e76cb77d62  1.0  1.0      1.0  2014811   \n",
       "\n",
       "                         type_no  \n",
       "65923  2014811.HM2014811.2014811  "
      ]
     },
     "execution_count": 38,
     "metadata": {},
     "output_type": "execute_result"
    }
   ],
   "source": [
    "deviceid_train_1.loc[deviceid_train_1.brand.values=='2014811',:]"
   ]
  },
  {
   "cell_type": "code",
   "execution_count": 36,
   "metadata": {},
   "outputs": [
    {
     "data": {
      "text/plain": [
       "array(['Sony', 'Xiaomi', 'OPPO', 'vivo', 'ZTE', 'Meizu', 'Huawei',\n",
       "       'samsung', 'Lenovo', 'L36h', 'Coolpad', 'OYSIN', 'GiONEE',\n",
       "       'HUAWEI', 'V615', 'Honor', 'X-apple', 'ONEPLUS', 'smartisan',\n",
       "       'DOOV', 'L39h', 'Hisense', 'lge', 'MeiXing', 'SM-N9002', 'lephone',\n",
       "       'IUNI', 'SOP', 'Che1-CL20', 'xiaolajiao', 'VEGA', 'MI+4LTE',\n",
       "       'iPhone', 'YUSUN', 'VERIZON', 'Pioneer', 'htc', 'SM-C101', 'nubia',\n",
       "       'bifer', 'MediaPad', 'ETON', 'XMSD', 'SUGAR', 'R8207', 'alps',\n",
       "       'SM-N900', 'MI', 'Meitu', 'Amazon', 'm1', 'SCL23', 'SHOWN_P1',\n",
       "       'CHM-UL00', 'TCL', 'MZT002-1', 'Philips', 'GT-N7100', '2014501',\n",
       "       'UOOGOU', 'H60-L02', 'ivvi', 'KDDI', 'T1-A23L', 'SM-G7106', 'AND',\n",
       "       'TETC', 'SKYHON', 'unknown', 'feixun', '2014811', '6607',\n",
       "       'YotaPhone', 'Hasee', 'PE-UL00', 'OWWO'], dtype=object)"
      ]
     },
     "execution_count": 36,
     "metadata": {},
     "output_type": "execute_result"
    }
   ],
   "source": [
    "deviceid_train_1.brand.unique()"
   ]
  },
  {
   "cell_type": "code",
   "execution_count": 37,
   "metadata": {},
   "outputs": [
    {
     "data": {
      "text/plain": [
       "Text(0.5,0,'Count')"
      ]
     },
     "execution_count": 37,
     "metadata": {},
     "output_type": "execute_result"
    },
    {
     "data": {
      "image/png": "[encoded data removed]",
      "text/plain": [
       "<matplotlib.figure.Figure at 0x7f4a5919aa20>"
      ]
     },
     "metadata": {},
     "output_type": "display_data"
    }
   ],
   "source": [
    "\n",
    "\n",
    "fig,ax = plt.subplots(figsize=(8,6))\n",
    "\n",
    "deviceid_train_1.brand.value_counts().plot(kind='barh')\n",
    "plt.title('Age Group Distribution')\n",
    "plt.xlabel('Count')\n",
    "\n"
   ]
  },
  {
   "cell_type": "code",
   "execution_count": null,
   "metadata": {},
   "outputs": [],
   "source": []
  }
 ],
 "metadata": {
  "kernelspec": {
   "display_name": "Python 3",
   "language": "python",
   "name": "python3"
  },
  "language_info": {
   "codemirror_mode": {
    "name": "ipython",
    "version": 3
   },
   "file_extension": ".py",
   "mimetype": "text/x-python",
   "name": "python",
   "nbconvert_exporter": "python",
   "pygments_lexer": "ipython3",
   "version": "3.6.4"
  }
 },
 "nbformat": 4,
 "nbformat_minor": 2
}
