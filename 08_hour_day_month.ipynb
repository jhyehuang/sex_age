{
 "cells": [
  {
   "cell_type": "code",
   "execution_count": 1,
   "metadata": {},
   "outputs": [],
   "source": [
    "import pandas as pd\n",
    "from flags import FLAGS, unparsed\n",
    "import numpy as np"
   ]
  },
  {
   "cell_type": "code",
   "execution_count": 5,
   "metadata": {},
   "outputs": [],
   "source": [
    "package_label=pd.read_csv(FLAGS.file_path+'package_label.txt')"
   ]
  },
  {
   "cell_type": "code",
   "execution_count": 7,
   "metadata": {},
   "outputs": [
    {
     "data": {
      "text/plain": [
       "[' 日历应用',\n",
       " ' 网络电视',\n",
       " ' 孕育工具助手',\n",
       " ' 投资理财',\n",
       " ' 其它',\n",
       " ' 地图',\n",
       " ' 学习社区',\n",
       " ' 拍照及图片处理',\n",
       " ' 教育平台',\n",
       " ' 卖家工具',\n",
       " ' 录音工具',\n",
       " ' 综合资讯',\n",
       " ' 视频编辑',\n",
       " ' 校园管理/校园应用',\n",
       " ' 贷款计算器',\n",
       " ' 应用商店',\n",
       " ' 综合阅读',\n",
       " ' 车后服务',\n",
       " ' 消除',\n",
       " ' 格斗',\n",
       " ' 营业厅',\n",
       " ' 音乐播放器',\n",
       " ' 浏览器',\n",
       " ' 导购/返利',\n",
       " ' 体育竞技',\n",
       " ' 社交辅助工具',\n",
       " ' FPS(第一人称射击游戏)',\n",
       " ' 社交网络',\n",
       " ' 公共交通',\n",
       " ' 网络借贷',\n",
       " ' 无线管理/WIFI管理',\n",
       " ' 赛车',\n",
       " ' 翻译工具',\n",
       " ' 汽车工具',\n",
       " ' 生活工具',\n",
       " ' 手机锁屏',\n",
       " ' 控制',\n",
       " ' 证券服务应用',\n",
       " ' 模拟经营',\n",
       " ' 优惠券',\n",
       " ' 字典词典',\n",
       " ' 火车票预订',\n",
       " ' 星座占卜',\n",
       " ' 垂直视频',\n",
       " ' 手机桌面',\n",
       " ' 外语学习',\n",
       " ' 学习工具',\n",
       " ' 智能可穿戴',\n",
       " ' 养生保健',\n",
       " ' 安全管理',\n",
       " ' 儿童教育',\n",
       " ' 通讯录',\n",
       " ' 音乐节奏',\n",
       " ' 益智',\n",
       " ' 通话辅助',\n",
       " ' 综合社区论坛',\n",
       " ' 计算器',\n",
       " ' 运动健康',\n",
       " ' 招聘求职',\n",
       " ' 生鲜电商',\n",
       " ' 天气',\n",
       " ' 患者管理',\n",
       " ' 跑酷',\n",
       " ' 优化工具',\n",
       " ' 移动音乐',\n",
       " ' 动漫',\n",
       " ' 聚合视频/视频导航',\n",
       " ' 游戏中心',\n",
       " ' 塔防',\n",
       " ' 模拟养成',\n",
       " ' 飞行射击',\n",
       " ' 时钟/闹钟/计时器',\n",
       " ' 彩票服务',\n",
       " ' 短信工具',\n",
       " ' 记事本/备忘',\n",
       " ' 娱乐直播',\n",
       " ' VR',\n",
       " ' 文件管理',\n",
       " ' 保险服务',\n",
       " ' 共享单车',\n",
       " ' 游戏交易',\n",
       " ' 综合电商',\n",
       " ' 动作冒险',\n",
       " ' 聚合资讯',\n",
       " ' 生活服务',\n",
       " ' 搜索',\n",
       " ' 支付',\n",
       " ' 医药电商',\n",
       " ' 体育彩票',\n",
       " ' 银行服务应用',\n",
       " ' 广告/营销工具',\n",
       " ' 零售O2O',\n",
       " ' 模拟器',\n",
       " ' 中文输入法',\n",
       " ' 系统自带',\n",
       " ' 美业服务',\n",
       " ' 游戏资讯',\n",
       " ' 云盘',\n",
       " ' 体育视频/直播',\n",
       " ' 品牌电商',\n",
       " ' 回合制',\n",
       " ' 视频播放器',\n",
       " ' 消费金融',\n",
       " ' 绘画工具',\n",
       " ' 小说创作平台',\n",
       " ' 电子书',\n",
       " ' 短视频综合平台',\n",
       " ' 监控',\n",
       " ' 美食社区',\n",
       " ' 综合视频',\n",
       " ' 手机助手',\n",
       " ' 智能路由器',\n",
       " ' 异性社交',\n",
       " ' 名片管理',\n",
       " ' 冒险解谜',\n",
       " ' 截屏软件',\n",
       " ' 恋爱养成',\n",
       " ' 本地资讯',\n",
       " ' 棋牌',\n",
       " ' 快递/配送',\n",
       " ' 接单助手',\n",
       " ' 移动电台',\n",
       " ' 社保查询',\n",
       " ' OFFICE系列',\n",
       " ' MOBA(多人在线战术竞技游戏)',\n",
       " ' 桌游',\n",
       " ' 金融工具',\n",
       " ' 心理健康',\n",
       " ' 相册/图片管理',\n",
       " ' 定位应用',\n",
       " ' 外文输入法',\n",
       " ' 房产服务',\n",
       " ' 财经资讯',\n",
       " ' 二手电商',\n",
       " ' 流量统计',\n",
       " ' 移动K歌',\n",
       " ' 手机测速',\n",
       " ' root工具',\n",
       " ' 医疗学术',\n",
       " ' 中小学类教育',\n",
       " ' 图片社交',\n",
       " ' 亲子工具',\n",
       " ' 铃声工具',\n",
       " ' 期刊杂志',\n",
       " ' 体育资讯',\n",
       " ' 智能家居',\n",
       " ' ARPG(即时战斗角色扮演游戏)',\n",
       " ' 跨境电商',\n",
       " ' 文库',\n",
       " ' 宽带服务',\n",
       " ' 翻墙软件',\n",
       " ' 阅读工具',\n",
       " ' 二次元社区',\n",
       " ' 游戏直播',\n",
       " ' 问诊',\n",
       " ' 健康管理',\n",
       " ' 轻阅读',\n",
       " ' 婚恋交友',\n",
       " ' 古典文化',\n",
       " ' 社区服务',\n",
       " ' 有声阅读',\n",
       " ' 驾驶学习',\n",
       " ' 网络电话',\n",
       " ' 社交电商',\n",
       " ' 修改器',\n",
       " ' 理财兼职',\n",
       " ' 指南针',\n",
       " ' 导诊平台',\n",
       " ' 即时通讯',\n",
       " ' 情侣互动',\n",
       " ' 城市用车',\n",
       " ' 策略',\n",
       " ' 积分墙应用',\n",
       " ' 大宗商品投资',\n",
       " ' 网址导航',\n",
       " ' 音乐学习',\n",
       " ' 酒店预订',\n",
       " ' 语音助手',\n",
       " ' 生理健康',\n",
       " ' 沙盒',\n",
       " ' 横版射击',\n",
       " ' 长短租车',\n",
       " ' 商务办公其它',\n",
       " ' 游戏工具',\n",
       " ' 农业电商',\n",
       " ' 特卖电商',\n",
       " ' 商务社交',\n",
       " ' 母婴电商',\n",
       " ' 音乐编辑',\n",
       " ' 汽车社区',\n",
       " ' 汽车违章',\n",
       " ' 短视频聚合平台',\n",
       " ' 酒水电商',\n",
       " ' 娱乐票务',\n",
       " ' 自诊自查',\n",
       " ' 传统媒体',\n",
       " ' 答题',\n",
       " ' 企业社交',\n",
       " ' 法律服务',\n",
       " ' 条码二维码',\n",
       " ' 动画',\n",
       " ' 信用服务',\n",
       " ' 游戏攻略',\n",
       " ' 电池管理',\n",
       " ' 工具包',\n",
       " ' 刷机工具',\n",
       " ' 外卖/订餐',\n",
       " ' 军事资讯',\n",
       " ' 任务管理/项目管理',\n",
       " ' 汽车交易',\n",
       " ' 汽车资讯',\n",
       " ' 孕婴健康',\n",
       " ' 家居家装',\n",
       " ' 宗教阅读',\n",
       " ' 综合旅游预订',\n",
       " ' 路况查询',\n",
       " ' 应试教育',\n",
       " ' 职业教育',\n",
       " ' 备份工具',\n",
       " ' 疾病管理',\n",
       " ' 农业服务',\n",
       " ' 邮箱',\n",
       " ' 互联网巴士',\n",
       " ' 进销存管理',\n",
       " ' 卡牌对战',\n",
       " ' 兴趣教育',\n",
       " ' TPS(第三人称射击游戏)',\n",
       " ' 旅游工具',\n",
       " ' B2B',\n",
       " ' 旅游攻略/UGC类',\n",
       " ' 本地医疗',\n",
       " ' 时尚资讯',\n",
       " ' 挂号',\n",
       " ' 财经直播',\n",
       " ' 母婴综合社区',\n",
       " ' 网络媒体',\n",
       " ' 上门洗衣',\n",
       " ' 测试软件',\n",
       " ' 企业即时通讯',\n",
       " ' 历史阅读',\n",
       " ' 下载工具',\n",
       " ' 医学整形',\n",
       " ' 家政服务',\n",
       " ' 视频会议/监控',\n",
       " ' 传输工具',\n",
       " ' 医疗资讯',\n",
       " ' 科技资讯',\n",
       " ' 两性生活',\n",
       " ' 综合度假旅游预订',\n",
       " ' 教育直播',\n",
       " ' 考勤管理',\n",
       " ' 海外资讯',\n",
       " ' 匿名社交',\n",
       " ' 外汇查询',\n",
       " ' 航空服务',\n",
       " ' 娱乐资讯',\n",
       " ' 房产经纪人工具',\n",
       " ' 综合到家平台',\n",
       " ' 车辆充电加油',\n",
       " ' 警务服务',\n",
       " ' 奢侈品电商',\n",
       " ' 汽车分时租赁',\n",
       " ' 生活资讯',\n",
       " ' 拨号工具',\n",
       " ' 卸载工具',\n",
       " ' 测量工具',\n",
       " ' 中医咨询',\n",
       " ' 分类信息',\n",
       " ' 政务信息',\n",
       " ' 同志交友',\n",
       " ' 办公打印',\n",
       " ' 追星饭团',\n",
       " ' 卡牌+X',\n",
       " ' 游戏论坛',\n",
       " ' 宠物O2O',\n",
       " ' 法规查询',\n",
       " ' 视频下载',\n",
       " ' MV视频',\n",
       " ' 查询工具',\n",
       " ' 餐饮品牌',\n",
       " ' 在线停车',\n",
       " ' 放置类',\n",
       " ' TCG(集换式卡牌游戏)',\n",
       " ' 食谱',\n",
       " ' 轻小说',\n",
       " ' 价格估测',\n",
       " ' 财务管理',\n",
       " ' 有声资讯']"
      ]
     },
     "execution_count": 7,
     "metadata": {},
     "output_type": "execute_result"
    }
   ],
   "source": [
    "package_label['t2'].unique().tolist()"
   ]
  },
  {
   "cell_type": "code",
   "execution_count": 20,
   "metadata": {},
   "outputs": [],
   "source": [
    "deviceid_packages_08= pd.read_csv(FLAGS.file_path +'08_deviceid_packages.csv',)"
   ]
  },
  {
   "cell_type": "code",
   "execution_count": 21,
   "metadata": {},
   "outputs": [],
   "source": [
    "package_label=pd.read_csv(FLAGS.file_path+'package_label.csv')"
   ]
  },
  {
   "cell_type": "code",
   "execution_count": 34,
   "metadata": {},
   "outputs": [],
   "source": [
    "deviceid_packages_08=deviceid_packages_08.fillna(0)"
   ]
  },
  {
   "cell_type": "code",
   "execution_count": 63,
   "metadata": {},
   "outputs": [],
   "source": [
    "columns=['device_id','close_hour_len_t1_32', 'close_day_size_t1_32', 'close_day_t1_32', 'close_hour_t1_32', 'close_day_size_t1_33', 'close_hour_t1_43', 'close_hour_t1_33', 'close_hour_len_t1_33', 'close_hour_len_t1_36', 'close_day_t1_43', 'close_day_size_t1_43', 'close_day_t1_33', 'close_hour_t1_36', 'close_hour_len_t1_43', 'close_day_t1_19', 'close_day_t1_21', 'close_day_t1_36', 'close_hour_t1_19', 'close_hour_t1_21', 'close_day_size_t1_36', 'close_day_size_t1_17', 'close_day_t1_17', 'close_hour_t1_17', 'close_hour_t1_4', 'close_hour_t1_11', 'close_day_t1_4', 'close_hour_len_t1_19', 'close_hour_t1_22',]"
   ]
  },
  {
   "cell_type": "code",
   "execution_count": 50,
   "metadata": {},
   "outputs": [
    {
     "name": "stderr",
     "output_type": "stream",
     "text": [
      "/home/zhijiehuang/anaconda3/lib/python3.6/site-packages/ipykernel_launcher.py:1: DeprecationWarning: \n",
      ".ix is deprecated. Please use\n",
      ".loc for label based indexing or\n",
      ".iloc for positional indexing\n",
      "\n",
      "See the documentation here:\n",
      "http://pandas.pydata.org/pandas-docs/stable/indexing.html#ix-indexer-is-deprecated\n",
      "  \"\"\"Entry point for launching an IPython kernel.\n"
     ]
    }
   ],
   "source": [
    "device_id=deviceid_packages_08.ix[:,'device_id']\n",
    "deviceid_packages_08.drop('device_id', axis=1,inplace = True)\n",
    "deviceid_packages_08=deviceid_packages_08/deviceid_packages_08.std()\n",
    "deviceid_packages=pd.concat([device_id,deviceid_packages_08],axis=1)\n",
    "deviceid_packages=deviceid_packages.fillna(0)"
   ]
  },
  {
   "cell_type": "code",
   "execution_count": 46,
   "metadata": {},
   "outputs": [
    {
     "data": {
      "text/plain": [
       "(72727, 316)"
      ]
     },
     "execution_count": 46,
     "metadata": {},
     "output_type": "execute_result"
    }
   ],
   "source": [
    "deviceid_packages_08.shape"
   ]
  },
  {
   "cell_type": "code",
   "execution_count": 66,
   "metadata": {},
   "outputs": [
    {
     "data": {
      "text/plain": [
       "29"
      ]
     },
     "execution_count": 66,
     "metadata": {},
     "output_type": "execute_result"
    }
   ],
   "source": [
    "len(columns)"
   ]
  },
  {
   "cell_type": "code",
   "execution_count": 67,
   "metadata": {},
   "outputs": [],
   "source": [
    "day_month=deviceid_packages.ix[:,columns]"
   ]
  },
  {
   "cell_type": "code",
   "execution_count": 72,
   "metadata": {},
   "outputs": [],
   "source": [
    "day_month.to_csv(FLAGS.file_path+'08_deviceid_packages.csv',index= False)"
   ]
  },
  {
   "cell_type": "code",
   "execution_count": 57,
   "metadata": {},
   "outputs": [],
   "source": [
    "deviceid_packages=pd.concat([device_id,deviceid_packages_08],axis=1)"
   ]
  },
  {
   "cell_type": "code",
   "execution_count": 71,
   "metadata": {},
   "outputs": [
    {
     "data": {
      "text/plain": [
       "(72727, 29)"
      ]
     },
     "execution_count": 71,
     "metadata": {},
     "output_type": "execute_result"
    }
   ],
   "source": [
    "day_month.shape"
   ]
  },
  {
   "cell_type": "code",
   "execution_count": null,
   "metadata": {},
   "outputs": [],
   "source": []
  }
 ],
 "metadata": {
  "kernelspec": {
   "display_name": "Python 3",
   "language": "python",
   "name": "python3"
  },
  "language_info": {
   "codemirror_mode": {
    "name": "ipython",
    "version": 3
   },
   "file_extension": ".py",
   "mimetype": "text/x-python",
   "name": "python",
   "nbconvert_exporter": "python",
   "pygments_lexer": "ipython3",
   "version": "3.6.4"
  }
 },
 "nbformat": 4,
 "nbformat_minor": 2
}
