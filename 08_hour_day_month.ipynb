{
 "cells": [
  {
   "cell_type": "code",
   "execution_count": 19,
   "metadata": {},
   "outputs": [],
   "source": [
    "import pandas as pd\n",
    "from flags import FLAGS, unparsed\n",
    "import numpy as np"
   ]
  },
  {
   "cell_type": "code",
   "execution_count": 20,
   "metadata": {},
   "outputs": [],
   "source": [
    "deviceid_packages_08= pd.read_csv(FLAGS.file_path +'08_deviceid_packages.csv',)"
   ]
  },
  {
   "cell_type": "code",
   "execution_count": 21,
   "metadata": {},
   "outputs": [],
   "source": [
    "package_label=pd.read_csv(FLAGS.file_path+'package_label.csv')"
   ]
  },
  {
   "cell_type": "code",
   "execution_count": 34,
   "metadata": {},
   "outputs": [],
   "source": [
    "deviceid_packages_08=deviceid_packages_08.fillna(0)"
   ]
  },
  {
   "cell_type": "code",
   "execution_count": 63,
   "metadata": {},
   "outputs": [],
   "source": [
    "columns=['device_id','close_hour_len_t1_32', 'close_day_size_t1_32', 'close_day_t1_32', 'close_hour_t1_32', 'close_day_size_t1_33', 'close_hour_t1_43', 'close_hour_t1_33', 'close_hour_len_t1_33', 'close_hour_len_t1_36', 'close_day_t1_43', 'close_day_size_t1_43', 'close_day_t1_33', 'close_hour_t1_36', 'close_hour_len_t1_43', 'close_day_t1_19', 'close_day_t1_21', 'close_day_t1_36', 'close_hour_t1_19', 'close_hour_t1_21', 'close_day_size_t1_36', 'close_day_size_t1_17', 'close_day_t1_17', 'close_hour_t1_17', 'close_hour_t1_4', 'close_hour_t1_11', 'close_day_t1_4', 'close_hour_len_t1_19', 'close_hour_t1_22',]"
   ]
  },
  {
   "cell_type": "code",
   "execution_count": 50,
   "metadata": {},
   "outputs": [
    {
     "name": "stderr",
     "output_type": "stream",
     "text": [
      "/home/zhijiehuang/anaconda3/lib/python3.6/site-packages/ipykernel_launcher.py:1: DeprecationWarning: \n",
      ".ix is deprecated. Please use\n",
      ".loc for label based indexing or\n",
      ".iloc for positional indexing\n",
      "\n",
      "See the documentation here:\n",
      "http://pandas.pydata.org/pandas-docs/stable/indexing.html#ix-indexer-is-deprecated\n",
      "  \"\"\"Entry point for launching an IPython kernel.\n"
     ]
    }
   ],
   "source": [
    "device_id=deviceid_packages_08.ix[:,'device_id']\n",
    "deviceid_packages_08.drop('device_id', axis=1,inplace = True)\n",
    "deviceid_packages_08=deviceid_packages_08/deviceid_packages_08.std()\n",
    "deviceid_packages=pd.concat([device_id,deviceid_packages_08],axis=1)\n",
    "deviceid_packages=deviceid_packages.fillna(0)"
   ]
  },
  {
   "cell_type": "code",
   "execution_count": 46,
   "metadata": {},
   "outputs": [
    {
     "data": {
      "text/plain": [
       "(72727, 316)"
      ]
     },
     "execution_count": 46,
     "metadata": {},
     "output_type": "execute_result"
    }
   ],
   "source": [
    "deviceid_packages_08.shape"
   ]
  },
  {
   "cell_type": "code",
   "execution_count": 66,
   "metadata": {},
   "outputs": [
    {
     "data": {
      "text/plain": [
       "29"
      ]
     },
     "execution_count": 66,
     "metadata": {},
     "output_type": "execute_result"
    }
   ],
   "source": [
    "len(columns)"
   ]
  },
  {
   "cell_type": "code",
   "execution_count": 67,
   "metadata": {},
   "outputs": [],
   "source": [
    "day_month=deviceid_packages.ix[:,columns]"
   ]
  },
  {
   "cell_type": "code",
   "execution_count": 72,
   "metadata": {},
   "outputs": [],
   "source": [
    "day_month.to_csv(FLAGS.file_path+'08_deviceid_packages.csv',index= False)"
   ]
  },
  {
   "cell_type": "code",
   "execution_count": 57,
   "metadata": {},
   "outputs": [],
   "source": [
    "deviceid_packages=pd.concat([device_id,deviceid_packages_08],axis=1)"
   ]
  },
  {
   "cell_type": "code",
   "execution_count": 71,
   "metadata": {},
   "outputs": [
    {
     "data": {
      "text/plain": [
       "(72727, 29)"
      ]
     },
     "execution_count": 71,
     "metadata": {},
     "output_type": "execute_result"
    }
   ],
   "source": [
    "day_month.shape"
   ]
  },
  {
   "cell_type": "code",
   "execution_count": null,
   "metadata": {},
   "outputs": [],
   "source": []
  }
 ],
 "metadata": {
  "kernelspec": {
   "display_name": "Python 3",
   "language": "python",
   "name": "python3"
  },
  "language_info": {
   "codemirror_mode": {
    "name": "ipython",
    "version": 3
   },
   "file_extension": ".py",
   "mimetype": "text/x-python",
   "name": "python",
   "nbconvert_exporter": "python",
   "pygments_lexer": "ipython3",
   "version": "3.6.4"
  }
 },
 "nbformat": 4,
 "nbformat_minor": 2
}
